{
  "cells": [
    {
      "cell_type": "markdown",
      "metadata": {
        "id": "view-in-github",
        "colab_type": "text"
      },
      "source": [
        "<a href=\"https://colab.research.google.com/github/enwachukwu/abc/blob/main/Third_Convolutional_N_N_Task.ipynb\" target=\"_parent\"><img src=\"https://colab.research.google.com/assets/colab-badge.svg\" alt=\"Open In Colab\"/></a>"
      ]
    },
    {
      "cell_type": "code",
      "execution_count": null,
      "metadata": {
        "id": "pZ2vBId5B26U"
      },
      "outputs": [],
      "source": [
        "from __future__ import print_function\n",
        "import tensorflow as tf\n",
        "from tensorflow.keras.models import Sequential\n",
        "from tensorflow.keras.layers import Dense, Dropout, Activation, Flatten, BatchNormalization\n",
        "from tensorflow.keras.layers import Conv2D, MaxPooling2D\n",
        "from tensorflow.keras.layers import ELU\n",
        "from tensorflow.keras.preprocessing.image import ImageDataGenerator\n",
        "import os\n",
        "from tensorflow import keras\n",
        "import matplotlib.pyplot as plt\n",
        "from tensorflow.keras.optimizers import Adam\n",
        "from tensorflow.keras.utils import to_categorical\n",
        "from tensorflow.keras.callbacks import EarlyStopping, ModelCheckpoint, ReduceLROnPlateau\n",
        "\n"
      ]
    },
    {
      "cell_type": "code",
      "execution_count": null,
      "metadata": {
        "id": "X5zh509rtM8k"
      },
      "outputs": [],
      "source": [
        "# Set parameters\n",
        "image_size = 256\n",
        "batch_size = 32\n",
        "EPOCHS = 10\n",
        "num_classes = 17"
      ]
    },
    {
      "cell_type": "code",
      "execution_count": null,
      "metadata": {
        "id": "LhirV5UtTBwO"
      },
      "outputs": [],
      "source": [
        "# define data directories\n",
        "train_data_dir = '/content/drive/MyDrive/17_flowers/train'\n",
        "test_data_dir = '/content/drive/MyDrive/17_flowers/test'"
      ]
    },
    {
      "cell_type": "code",
      "execution_count": null,
      "metadata": {
        "id": "BWu4jrb6Xizw"
      },
      "outputs": [],
      "source": [
        "# Create an instance of the ImageDataGenerator class with various transformations parameters.\n",
        "datagen = ImageDataGenerator(\n",
        "    horizontal_flip=True,\n",
        "    vertical_flip=True,\n",
        "    rotation_range=40,\n",
        "    width_shift_range=0.1,\n",
        "    height_shift_range=0.1,\n",
        "    rescale=1/255,\n",
        "    fill_mode='nearest',\n",
        "    brightness_range=[0.5, 1.5],\n",
        "    validation_split=0.1\n",
        ")\n"
      ]
    },
    {
      "cell_type": "code",
      "execution_count": null,
      "metadata": {
        "colab": {
          "base_uri": "https://localhost:8080/"
        },
        "id": "Q0epvnBIYODy",
        "outputId": "8c151d2f-7b18-4992-d196-1dda1aeecb43"
      },
      "outputs": [
        {
          "name": "stdout",
          "output_type": "stream",
          "text": [
            "Found 1071 images belonging to 17 classes.\n"
          ]
        }
      ],
      "source": [
        "\n",
        "train_generator = datagen.flow_from_directory(\n",
        "        train_data_dir,  # Directory where the training data is located\n",
        "        target_size = (image_size, image_size),  # Dimensions to which all images found will be resized\n",
        "        batch_size=batch_size,  # Size of the batches of data\n",
        "        class_mode='categorical',  # Because we use categorical_crossentropy loss, we need categorical labels\n",
        "        subset='training')  # Specifies this is the training subset of data (in conjunction with 'validation_split' in 'datagen')"
      ]
    },
    {
      "cell_type": "code",
      "execution_count": null,
      "metadata": {
        "colab": {
          "base_uri": "https://localhost:8080/"
        },
        "id": "9Rl2UmsLvhNo",
        "outputId": "57dd1926-bbc3-4551-c94d-a5537c235a6d"
      },
      "outputs": [
        {
          "name": "stdout",
          "output_type": "stream",
          "text": [
            "Found 119 images belonging to 17 classes.\n"
          ]
        }
      ],
      "source": [
        "\n",
        "validation_generator = datagen.flow_from_directory(\n",
        "        train_data_dir,  # Directory where the training data is located (validation data is often in the same place)\n",
        "        target_size = (image_size, image_size),  # Dimensions to which all images found will be resized\n",
        "        batch_size=batch_size,  # Size of the batches of data\n",
        "        class_mode='categorical',  # Because we use categorical_crossentropy loss, we need categorical labels\n",
        "        subset='validation',  # Specifies this is the validation subset of data (in conjunction with 'validation_split' in 'datagen')\n",
        "        shuffle=False)  # Data will be read in order, without shuffling"
      ]
    },
    {
      "cell_type": "code",
      "execution_count": null,
      "metadata": {
        "id": "cZ5SSDTBvn7z"
      },
      "outputs": [],
      "source": [
        "test_datagen = ImageDataGenerator(rescale=1.0 / 255)"
      ]
    },
    {
      "cell_type": "code",
      "execution_count": null,
      "metadata": {
        "colab": {
          "base_uri": "https://localhost:8080/"
        },
        "id": "6XisnFnxYXHY",
        "outputId": "dfdb9d2b-aea2-4c4a-d199-d1e89abc5949"
      },
      "outputs": [
        {
          "name": "stdout",
          "output_type": "stream",
          "text": [
            "Found 170 images belonging to 17 classes.\n"
          ]
        }
      ],
      "source": [
        "\n",
        "test_generator = test_datagen.flow_from_directory(\n",
        "        test_data_dir,  # Directory where the test data is located\n",
        "        target_size=(image_size,image_size),  # Dimensions to which all images found will be resized\n",
        "        batch_size=batch_size,  # Size of the batches of data\n",
        "        class_mode='categorical',  # Because we use categorical_crossentropy loss, we need categorical labels\n",
        "        shuffle=False)  # Data will be read in order, without shuffling, to keep correspondence with true labels\n",
        "\n"
      ]
    },
    {
      "cell_type": "code",
      "execution_count": null,
      "metadata": {
        "id": "owl4DItWa0GQ"
      },
      "outputs": [],
      "source": [
        "# Initialize a Sequential model. The Sequential model is a linear stack of layers.\n",
        "model = Sequential()\n",
        "\n",
        "# First CONV-ReLU Layer\n",
        "model.add(Conv2D(64, (3, 3), padding='same', input_shape=(image_size, image_size, 3)))\n",
        "\n",
        "# Apply the ReLU activation function.\n",
        "model.add(Activation('relu'))\n",
        "\n",
        "# Batch normalization layer normalizes the activations of the previous layer, which can speed up training.\n",
        "model.add(BatchNormalization())\n",
        "\n",
        "# Second CONV-ReLU Layer\n",
        "\n",
        "# Another convolutional layer with the same configurations as above.\n",
        "model.add(Conv2D(64, (3, 3), padding = \"same\", input_shape = (image_size, image_size, 3)))\n",
        "model.add(Activation('relu'))\n",
        "model.add(BatchNormalization())\n",
        "\n",
        "# Max Pooling with Dropout\n",
        "\n",
        "# Max pooling layer to down-sample the feature maps, which helps to reduce the spatial dimensions.\n",
        "model.add(MaxPooling2D(pool_size=(2, 2)))\n",
        "\n",
        "# Dropout layer randomly sets a fraction (20% in this case) of input units to 0 at each update during training,\n",
        "# which helps to prevent overfitting.\n",
        "model.add(Dropout(0.2))\n",
        "\n",
        "# 3rd and 4th set of CONV-ReLU Layers\n",
        "# Similar to the first and second, but increasing the filters to 128.\n",
        "model.add(Conv2D(128, (3, 3), padding=\"same\"))\n",
        "model.add(Activation('relu'))\n",
        "model.add(BatchNormalization())\n",
        "\n",
        "model.add(Conv2D(128, (3, 3), padding=\"same\"))\n",
        "model.add(Activation('relu'))\n",
        "model.add(BatchNormalization())\n",
        "\n",
        "# Max Pooling with Dropout\n",
        "model.add(MaxPooling2D(pool_size=(2, 2)))\n",
        "model.add(Dropout(0.2))\n",
        "\n",
        "# 5th and 6th set of CONV-ReLU Layers\n",
        "# Similar to previous sets, but increasing the filters to 256.\n",
        "model.add(Conv2D(256, (3, 3), padding=\"same\"))\n",
        "model.add(Activation('relu'))\n",
        "model.add(BatchNormalization())\n",
        "\n",
        "model.add(Conv2D(256, (3, 3), padding=\"same\"))\n",
        "model.add(Activation('relu'))\n",
        "model.add(BatchNormalization())\n",
        "\n",
        "# Max Pooling with Dropout\n",
        "model.add(MaxPooling2D(pool_size=(2, 2)))\n",
        "model.add(Dropout(0.2))\n",
        "\n",
        "# First set of FC or Dense Layers\n",
        "\n",
        "# Flatten layer reshapes the 3D output of the last convolutional layers to 1D.\n",
        "model.add(Flatten())\n",
        "\n",
        "# Fully connected (Dense) layer with 256 neurons.\n",
        "model.add(Dense(256))\n",
        "model.add(Activation('relu'))\n",
        "model.add(BatchNormalization())\n",
        "model.add(Dropout(0.5))\n",
        "\n",
        "# Second set of FC or Dense Layers\n",
        "model.add(Dense(256))\n",
        "model.add(Activation('relu'))\n",
        "model.add(BatchNormalization())\n",
        "model.add(Dropout(0.5))\n",
        "\n",
        "# Final Dense Layer\n",
        "\n",
        "# A final fully connected layer with 'num_classes' neurons.\n",
        "# It uses the softmax activation function to produce probabilities for each class.\n",
        "model.add(Dense(num_classes))\n",
        "model.add(Activation(\"softmax\"))\n",
        "\n",
        "\n",
        "\n"
      ]
    },
    {
      "cell_type": "code",
      "execution_count": null,
      "metadata": {
        "id": "ymnGWdl4wgFD"
      },
      "outputs": [],
      "source": [
        "print(model.summary())"
      ]
    },
    {
      "cell_type": "code",
      "execution_count": null,
      "metadata": {
        "id": "dH3PPxowwhiQ"
      },
      "outputs": [],
      "source": [
        "def custom_loss(y_true, y_pred):\n",
        "    return tf.keras.losses.categorical_crossentropy(y_true, y_pred, label_smoothing=0.1)\n",
        "\n",
        "# Compile the model with the Adam optimizer and a learning rate of 0.0001.\n",
        "# The loss function is the custom function defined above, and the model will also track accuracy as a performance metric.\n",
        "model.compile(optimizer=Adam(0.0002), loss=custom_loss, metrics=['accuracy'])\n",
        "\n",
        "# Calculate the number of steps per epoch for training and validation.\n",
        "# This is done by dividing the total number of samples by the batch size for each generator.\n",
        "STEP_SIZE_TRAIN = train_generator.n // train_generator.batch_size\n",
        "STEP_SIZE_VALID = validation_generator.n // validation_generator.batch_size\n",
        "\n",
        "# Define a callback to reduce the learning rate if the validation accuracy plateaus.\n",
        "# The learning rate will be reduced by multiplying it by a factor of 0.2 if the accuracy does not improve after 2 epochs.\n",
        "# The reduction is subject to certain constraints to prevent it from decreasing below a minimum threshold.\n",
        "reduce_lr = tf.keras.callbacks.ReduceLROnPlateau(monitor = 'val_accuracy',\n",
        "                                                 factor = 0.2,\n",
        "                                                 patience = 2,\n",
        "                                                 verbose = 1,\n",
        "                                                 min_delta = 1e-4,\n",
        "                                                 min_lr = 1e-6,\n",
        "                                                 mode = 'max')\n",
        "\n",
        "# Define a callback for early stopping to prevent overfitting.\n",
        "# Training will stop if the validation accuracy does not improve by at least 0.0001 for 20 consecutive epochs.\n",
        "# If training is halted, the model will revert to the weights of the epoch with the best observed validation accuracy.\n",
        "earlystopping = tf.keras.callbacks.EarlyStopping(monitor = 'val_accuracy',\n",
        "                                                 min_delta = 1e-4,\n",
        "                                                 patience = 20,\n",
        "                                                 mode = 'max',\n",
        "                                                 restore_best_weights = True,\n",
        "                                                 verbose = 1)\n",
        "\n",
        "# Define a callback for model checkpoints to save the model architecture and weights.\n",
        "# This callback saves the model after every epoch where the validation accuracy improves.\n",
        "# Only the best performing model will be saved, and it will be stored in the file 'model.h5'.\n",
        "checkpointer = tf.keras.callbacks.ModelCheckpoint(filepath = 'model2',\n",
        "                                                  monitor = 'val_accuracy',\n",
        "                                                  verbose = 1,\n",
        "                                                  save_best_only = True,\n",
        "                                                  save_weights_only = False,\n",
        "                                                  mode = 'max')\n",
        "\n",
        "# Group the callbacks into a list that can be passed to the model training function.\n",
        "callbacks = [earlystopping, reduce_lr, checkpointer]"
      ]
    },
    {
      "cell_type": "code",
      "execution_count": null,
      "metadata": {
        "id": "FSd5EFGCh68X"
      },
      "outputs": [],
      "source": [
        "# Define callbacks for early stopping, model checkpoint, and learning rate reduction\n",
        "early_stopping = EarlyStopping(monitor='val_loss', patience=10, verbose=1, restore_best_weights=True)\n",
        "model_checkpoint = ModelCheckpoint('best_model.h5', monitor='val_loss', save_best_only=True, verbose=1)\n",
        "reduce_lr = ReduceLROnPlateau(monitor='val_loss', factor=0.2, patience=5, min_lr=0.0001, verbose=1)\n",
        "\n",
        "# List of callbacks\n",
        "callbacks = [early_stopping, model_checkpoint, reduce_lr]"
      ]
    },
    {
      "cell_type": "code",
      "execution_count": null,
      "metadata": {
        "colab": {
          "background_save": true,
          "base_uri": "https://localhost:8080/"
        },
        "id": "2iUMWa_nwuT6",
        "outputId": "77229115-f7ec-4daf-b160-8c18505a33b8"
      },
      "outputs": [
        {
          "name": "stdout",
          "output_type": "stream",
          "text": [
            "Epoch 1/10\n",
            "33/33 [==============================] - ETA: 0s - loss: 3.7689 - accuracy: 0.1174\n",
            "Epoch 1: val_loss improved from inf to 3.28300, saving model to best_model.h5\n"
          ]
        },
        {
          "name": "stderr",
          "output_type": "stream",
          "text": [
            "/usr/local/lib/python3.10/dist-packages/keras/src/engine/training.py:3079: UserWarning: You are saving your model as an HDF5 file via `model.save()`. This file format is considered legacy. We recommend using instead the native Keras format, e.g. `model.save('my_model.keras')`.\n",
            "  saving_api.save_model(\n"
          ]
        },
        {
          "name": "stdout",
          "output_type": "stream",
          "text": [
            "33/33 [==============================] - 51s 1s/step - loss: 3.7689 - accuracy: 0.1174 - val_loss: 3.2830 - val_accuracy: 0.0521 - lr: 2.0000e-04\n",
            "Epoch 2/10\n",
            "33/33 [==============================] - ETA: 0s - loss: 3.2174 - accuracy: 0.1973\n",
            "Epoch 2: val_loss did not improve from 3.28300\n",
            "33/33 [==============================] - 35s 1s/step - loss: 3.2174 - accuracy: 0.1973 - val_loss: 3.5525 - val_accuracy: 0.0208 - lr: 2.0000e-04\n",
            "Epoch 3/10\n",
            "33/33 [==============================] - ETA: 0s - loss: 2.9665 - accuracy: 0.2320\n",
            "Epoch 3: val_loss did not improve from 3.28300\n",
            "33/33 [==============================] - 38s 1s/step - loss: 2.9665 - accuracy: 0.2320 - val_loss: 3.9254 - val_accuracy: 0.0000e+00 - lr: 2.0000e-04\n",
            "Epoch 4/10\n",
            "33/33 [==============================] - ETA: 0s - loss: 2.8440 - accuracy: 0.2599\n",
            "Epoch 4: val_loss did not improve from 3.28300\n",
            "33/33 [==============================] - 38s 1s/step - loss: 2.8440 - accuracy: 0.2599 - val_loss: 5.4200 - val_accuracy: 0.0729 - lr: 2.0000e-04\n",
            "Epoch 5/10\n",
            "33/33 [==============================] - ETA: 0s - loss: 2.7505 - accuracy: 0.2859\n",
            "Epoch 5: val_loss did not improve from 3.28300\n",
            "33/33 [==============================] - 36s 1s/step - loss: 2.7505 - accuracy: 0.2859 - val_loss: 25.6204 - val_accuracy: 0.0729 - lr: 2.0000e-04\n",
            "Epoch 6/10\n",
            "33/33 [==============================] - ETA: 0s - loss: 2.9603 - accuracy: 0.2339\n",
            "Epoch 6: val_loss did not improve from 3.28300\n",
            "\n",
            "Epoch 6: ReduceLROnPlateau reducing learning rate to 0.0001.\n",
            "33/33 [==============================] - 35s 1s/step - loss: 2.9603 - accuracy: 0.2339 - val_loss: 7.4532 - val_accuracy: 0.0729 - lr: 2.0000e-04\n",
            "Epoch 7/10\n",
            "33/33 [==============================] - ETA: 0s - loss: 2.8587 - accuracy: 0.2743\n",
            "Epoch 7: val_loss did not improve from 3.28300\n",
            "33/33 [==============================] - 38s 1s/step - loss: 2.8587 - accuracy: 0.2743 - val_loss: 5.8959 - val_accuracy: 0.0729 - lr: 1.0000e-04\n",
            "Epoch 8/10\n",
            "33/33 [==============================] - ETA: 0s - loss: 2.6521 - accuracy: 0.3157\n",
            "Epoch 8: val_loss did not improve from 3.28300\n",
            "33/33 [==============================] - 36s 1s/step - loss: 2.6521 - accuracy: 0.3157 - val_loss: 5.8022 - val_accuracy: 0.0729 - lr: 1.0000e-04\n",
            "Epoch 9/10\n",
            "33/33 [==============================] - ETA: 0s - loss: 2.5989 - accuracy: 0.3378\n",
            "Epoch 9: val_loss did not improve from 3.28300\n",
            "33/33 [==============================] - 36s 1s/step - loss: 2.5989 - accuracy: 0.3378 - val_loss: 3.5630 - val_accuracy: 0.1250 - lr: 1.0000e-04\n",
            "Epoch 10/10\n",
            "33/33 [==============================] - ETA: 0s - loss: 2.5345 - accuracy: 0.3301\n",
            "Epoch 10: val_loss did not improve from 3.28300\n",
            "33/33 [==============================] - 36s 1s/step - loss: 2.5345 - accuracy: 0.3301 - val_loss: 3.3463 - val_accuracy: 0.1042 - lr: 1.0000e-04\n"
          ]
        }
      ],
      "source": [
        "history= model.fit(train_generator,\n",
        "          steps_per_epoch = STEP_SIZE_TRAIN,\n",
        "          validation_data = validation_generator,\n",
        "          validation_steps = STEP_SIZE_VALID,\n",
        "          epochs = EPOCHS,\n",
        "          callbacks = callbacks)"
      ]
    },
    {
      "cell_type": "code",
      "execution_count": null,
      "metadata": {
        "colab": {
          "base_uri": "https://localhost:8080/",
          "height": 677
        },
        "id": "jwdhnlYjxIzm",
        "outputId": "9ac590dc-d00c-4348-974f-d2ed63b469ec"
      },
      "outputs": [
        {
          "data": {
            "image/png": "[encoded data removed]",
            "text/plain": [
              "<Figure size 1500x800 with 1 Axes>"
            ]
          },
          "metadata": {},
          "output_type": "display_data"
        }
      ],
      "source": [
        "import pandas as pd\n",
        "\n",
        "pd.DataFrame(history.history).plot(figsize=(15,8))\n",
        "plt.grid(True)\n",
        "plt.gca()\n",
        "plt.show()"
      ]
    },
    {
      "cell_type": "code",
      "execution_count": null,
      "metadata": {
        "id": "p1uV6YcSxWin"
      },
      "outputs": [],
      "source": [
        "class_names = list(class_labels.values())"
      ]
    },
    {
      "cell_type": "code",
      "execution_count": null,
      "metadata": {
        "colab": {
          "base_uri": "https://localhost:8080/",
          "height": 903
        },
        "id": "5maWC5Q7xqmc",
        "outputId": "2408be69-3752-4c80-f3f6-5c4301ac58e4"
      },
      "outputs": [
        {
          "name": "stdout",
          "output_type": "stream",
          "text": [
            "5/5 [==============================] - 1s 212ms/step\n",
            "Confusion Matrix\n",
            "[[ 0  0  8  0  0  2  0  0  0  0  0  0  0  0  0  0  0]\n",
            " [ 0  0  0  0  0 10  0  0  0  0  0  0  0  0  0  0  0]\n",
            " [ 0  0  3  0  0  7  0  0  0  0  0  0  0  0  0  0  0]\n",
            " [ 0  0  2  0  0  8  0  0  0  0  0  0  0  0  0  0  0]\n",
            " [ 0  0  9  0  0  0  0  0  1  0  0  0  0  0  0  0  0]\n",
            " [ 0  0  4  0  0  6  0  0  0  0  0  0  0  0  0  0  0]\n",
            " [ 0  0  8  0  0  1  0  0  1  0  0  0  0  0  0  0  0]\n",
            " [ 0  0  1  0  0  9  0  0  0  0  0  0  0  0  0  0  0]\n",
            " [ 0  0  9  0  0  0  0  0  0  0  0  0  0  0  0  1  0]\n",
            " [ 0  0  5  0  0  5  0  0  0  0  0  0  0  0  0  0  0]\n",
            " [ 0  0 10  0  0  0  0  0  0  0  0  0  0  0  0  0  0]\n",
            " [ 0  0  6  0  0  4  0  0  0  0  0  0  0  0  0  0  0]\n",
            " [ 0  0 10  0  0  0  0  0  0  0  0  0  0  0  0  0  0]\n",
            " [ 0  0  1  0  0  9  0  0  0  0  0  0  0  0  0  0  0]\n",
            " [ 0  0  5  0  0  5  0  0  0  0  0  0  0  0  0  0  0]\n",
            " [ 0  0  4  0  0  6  0  0  0  0  0  0  0  0  0  0  0]\n",
            " [ 0  0 10  0  0  0  0  0  0  0  0  0  0  0  0  0  0]]\n",
            "Classification Report\n",
            "              precision    recall  f1-score   support\n",
            "\n",
            "    bluebell       0.00      0.00      0.00        10\n",
            "   buttercup       0.00      0.00      0.00        10\n",
            "  colts_foot       0.03      0.30      0.06        10\n",
            "     cowslip       0.00      0.00      0.00        10\n",
            "      crocus       0.00      0.00      0.00        10\n",
            "    daffodil       0.08      0.60      0.15        10\n",
            "       daisy       0.00      0.00      0.00        10\n",
            "   dandelion       0.00      0.00      0.00        10\n",
            "  fritillary       0.00      0.00      0.00        10\n",
            "        iris       0.00      0.00      0.00        10\n",
            " lily_valley       0.00      0.00      0.00        10\n",
            "       pansy       0.00      0.00      0.00        10\n",
            "    snowdrop       0.00      0.00      0.00        10\n",
            "   sunflower       0.00      0.00      0.00        10\n",
            "   tigerlily       0.00      0.00      0.00        10\n",
            "       tulip       0.00      0.00      0.00        10\n",
            "  windflower       0.00      0.00      0.00        10\n",
            "\n",
            "    accuracy                           0.05       170\n",
            "   macro avg       0.01      0.05      0.01       170\n",
            "weighted avg       0.01      0.05      0.01       170\n",
            "\n"
          ]
        },
        {
          "name": "stderr",
          "output_type": "stream",
          "text": [
            "/usr/local/lib/python3.10/dist-packages/sklearn/metrics/_classification.py:1344: UndefinedMetricWarning: Precision and F-score are ill-defined and being set to 0.0 in labels with no predicted samples. Use `zero_division` parameter to control this behavior.\n",
            "  _warn_prf(average, modifier, msg_start, len(result))\n",
            "/usr/local/lib/python3.10/dist-packages/sklearn/metrics/_classification.py:1344: UndefinedMetricWarning: Precision and F-score are ill-defined and being set to 0.0 in labels with no predicted samples. Use `zero_division` parameter to control this behavior.\n",
            "  _warn_prf(average, modifier, msg_start, len(result))\n",
            "/usr/local/lib/python3.10/dist-packages/sklearn/metrics/_classification.py:1344: UndefinedMetricWarning: Precision and F-score are ill-defined and being set to 0.0 in labels with no predicted samples. Use `zero_division` parameter to control this behavior.\n",
            "  _warn_prf(average, modifier, msg_start, len(result))\n"
          ]
        },
        {
          "data": {
            "text/plain": [
              "<Figure size 800x800 with 0 Axes>"
            ]
          },
          "metadata": {},
          "output_type": "display_data"
        }
      ],
      "source": [
        "import matplotlib.pyplot as plt\n",
        "import sklearn\n",
        "from sklearn.metrics import classification_report, confusion_matrix, accuracy_score\n",
        "import numpy as np\n",
        "\n",
        "\n",
        "class_labels = test_generator.class_indices\n",
        "class_labels = {v: k for k, v in class_labels.items()}\n",
        "classes = list(class_labels.values())\n",
        "\n",
        "#Confusion Matrix and Classification Report\n",
        "y_pred=model.predict(test_generator,steps=test_generator.n/batch_size,verbose=1)\n",
        "y_pred = np.argmax(y_pred, axis=1)\n",
        "y_true = test_generator.classes\n",
        "\n",
        "print('Confusion Matrix')\n",
        "print(confusion_matrix(y_true, y_pred))\n",
        "\n",
        "\n",
        "print('Classification Report')\n",
        "target_names = list(class_labels.values())\n",
        "print(classification_report(y_true, y_pred, target_names=class_names))\n",
        "\n",
        "plt.figure(figsize=(8,8))\n",
        "cnf_matrix = confusion_matrix(test_generator.classes, y_pred)\n"
      ]
    },
    {
      "cell_type": "code",
      "execution_count": null,
      "metadata": {
        "colab": {
          "base_uri": "https://localhost:8080/",
          "height": 872
        },
        "id": "lzujsXzDx0nz",
        "outputId": "309cd9b1-d2c8-4cd1-ec8e-60f90127fa43"
      },
      "outputs": [
        {
          "data": {
            "image/png": "[encoded data removed]",
            "text/plain": [
              "<Figure size 1000x1000 with 2 Axes>"
            ]
          },
          "metadata": {},
          "output_type": "display_data"
        }
      ],
      "source": [
        "import seaborn as sb\n",
        "\n",
        "# ax = plt.figure(figsize=(8, 6))\n",
        "fig = sb.heatmap(cnf_matrix, annot=True, fmt='g', cmap='Greens')  #annot=True to annotate cells, ftm='g' to disable scientific notation\n",
        "\n",
        "# labels, title and ticks\n",
        "fig.set_xlabel('Predicted labels')\n",
        "fig.set_ylabel('True labels')\n",
        "fig.set_title('Confusion Matrix')\n",
        "fig.figure.set_size_inches(10, 10)\n",
        "\n",
        "\n",
        "plt.show()"
      ]
    },
    {
      "cell_type": "code",
      "execution_count": null,
      "metadata": {
        "colab": {
          "base_uri": "https://localhost:8080/"
        },
        "id": "JOw4eJiAx2PJ",
        "outputId": "88fcdf83-f426-442b-9352-86c6b1dfdac2"
      },
      "outputs": [
        {
          "name": "stdout",
          "output_type": "stream",
          "text": [
            "\n",
            "Accuracy: 0.0529\n"
          ]
        }
      ],
      "source": [
        "# Calculate the accuracy\n",
        "accuracy = accuracy_score(y_true, y_pred)\n",
        "print(\"\\nAccuracy: {:.4f}\".format(accuracy))"
      ]
    },
    {
      "cell_type": "code",
      "execution_count": null,
      "metadata": {
        "colab": {
          "base_uri": "https://localhost:8080/"
        },
        "id": "NlIOETn5x-_n",
        "outputId": "7b928251-914f-440b-8a6c-2c978e349510"
      },
      "outputs": [
        {
          "name": "stdout",
          "output_type": "stream",
          "text": [
            "Macro Average Precision: 0.0068\n",
            "Macro Average Recall: 0.0529\n",
            "Macro Average F1-score: 0.0120\n",
            "\n",
            "Weighted Average Precision: 0.0068\n",
            "Weighted Average Recall: 0.0529\n",
            "Weighted Average F1-score: 0.0120\n",
            "\n"
          ]
        },
        {
          "name": "stderr",
          "output_type": "stream",
          "text": [
            "/usr/local/lib/python3.10/dist-packages/sklearn/metrics/_classification.py:1344: UndefinedMetricWarning: Precision and F-score are ill-defined and being set to 0.0 in labels with no predicted samples. Use `zero_division` parameter to control this behavior.\n",
            "  _warn_prf(average, modifier, msg_start, len(result))\n",
            "/usr/local/lib/python3.10/dist-packages/sklearn/metrics/_classification.py:1344: UndefinedMetricWarning: Precision and F-score are ill-defined and being set to 0.0 in labels with no predicted samples. Use `zero_division` parameter to control this behavior.\n",
            "  _warn_prf(average, modifier, msg_start, len(result))\n",
            "/usr/local/lib/python3.10/dist-packages/sklearn/metrics/_classification.py:1344: UndefinedMetricWarning: Precision and F-score are ill-defined and being set to 0.0 in labels with no predicted samples. Use `zero_division` parameter to control this behavior.\n",
            "  _warn_prf(average, modifier, msg_start, len(result))\n"
          ]
        }
      ],
      "source": [
        "from sklearn.metrics import classification_report\n",
        "\n",
        "# Assuming y_test holds the true labels and y_classes holds the predicted labels\n",
        "# Calculate classification report\n",
        "report_dict = classification_report(y_true, y_pred, output_dict=True)\n",
        "\n",
        "# Now, you can access the average values\n",
        "macro_precision = report_dict['macro avg']['precision']\n",
        "macro_recall = report_dict['macro avg']['recall']\n",
        "macro_f1 = report_dict['macro avg']['f1-score']\n",
        "\n",
        "weighted_precision = report_dict['weighted avg']['precision']\n",
        "weighted_recall = report_dict['weighted avg']['recall']\n",
        "weighted_f1 = report_dict['weighted avg']['f1-score']\n",
        "\n",
        "\n",
        "# Print out the averages\n",
        "print(f\"Macro Average Precision: {macro_precision:.4f}\")\n",
        "print(f\"Macro Average Recall: {macro_recall:.4f}\")\n",
        "print(f\"Macro Average F1-score: {macro_f1:.4f}\\n\")\n",
        "\n",
        "print(f\"Weighted Average Precision: {weighted_precision:.4f}\")\n",
        "print(f\"Weighted Average Recall: {weighted_recall:.4f}\")\n",
        "print(f\"Weighted Average F1-score: {weighted_f1:.4f}\\n\")"
      ]
    }
  ],
  "metadata": {
    "accelerator": "GPU",
    "colab": {
      "provenance": [],
      "mount_file_id": "1Bjg0mWpoEHPwYk-NPQ-shs4jnZdPgYGS",
      "authorship_tag": "ABX9TyOiosA0eKDa46yHe52qHIL8",
      "include_colab_link": true
    },
    "kernelspec": {
      "display_name": "Python 3",
      "name": "python3"
    },
    "language_info": {
      "name": "python"
    }
  },
  "nbformat": 4,
  "nbformat_minor": 0
}