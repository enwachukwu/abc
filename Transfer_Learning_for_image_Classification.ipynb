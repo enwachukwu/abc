{
  "nbformat": 4,
  "nbformat_minor": 0,
  "metadata": {
    "colab": {
      "provenance": [],
      "gpuType": "T4",
      "mount_file_id": "11JFyPP0NYH0g2hxus3QGcoHCwegKOHxI",
      "authorship_tag": "ABX9TyMnKdHdxMe0QjbnBUpcb5cN",
      "include_colab_link": true
    },
    "kernelspec": {
      "name": "python3",
      "display_name": "Python 3"
    },
    "language_info": {
      "name": "python"
    },
    "accelerator": "GPU"
  },
  "cells": [
    {
      "cell_type": "markdown",
      "metadata": {
        "id": "view-in-github",
        "colab_type": "text"
      },
      "source": [
        "<a href=\"https://colab.research.google.com/github/enwachukwu/abc/blob/main/Transfer_Learning_for_image_Classification.ipynb\" target=\"_parent\"><img src=\"https://colab.research.google.com/assets/colab-badge.svg\" alt=\"Open In Colab\"/></a>"
      ]
    },
    {
      "cell_type": "code",
      "execution_count": null,
      "metadata": {
        "id": "JZmg8H_uXW5P"
      },
      "outputs": [],
      "source": [
        "from __future__ import print_function\n",
        "import tensorflow as tf\n",
        "from tensorflow.keras.models import Sequential,Model\n",
        "from tensorflow.keras.layers import Dense, Dropout, Activation, Flatten, BatchNormalization\n",
        "from tensorflow.keras.layers import Conv2D, MaxPooling2D\n",
        "from tensorflow.keras.layers import ELU\n",
        "from tensorflow.keras.preprocessing.image import ImageDataGenerator\n",
        "import os\n",
        "from tensorflow import keras\n",
        "import matplotlib.pyplot as plt\n",
        "from tensorflow.keras.optimizers import Adam\n",
        "from tensorflow.keras.applications import VGG19  # Import the VGG19 model"
      ]
    },
    {
      "cell_type": "code",
      "source": [
        "image_size = 224\n",
        "batch_size = 16\n",
        "EPOCHS = 2\n",
        "num_classes = 2\n",
        "\n",
        "train_data_dir = '/content/drive/MyDrive/catsvsdogs/train'\n",
        "test_data_dir = '/content/drive/MyDrive/catsvsdogs/test'"
      ],
      "metadata": {
        "id": "uD1gFAF1Ygme"
      },
      "execution_count": null,
      "outputs": []
    },
    {
      "cell_type": "code",
      "source": [
        "# Create an instance of the ImageDataGenerator class with various transformations parameters.\n",
        "datagen = ImageDataGenerator(\n",
        "    horizontal_flip=True,  # Randomly flip inputs horizontally for data augmentation.\n",
        "    vertical_flip=True,  # Randomly flip inputs vertically for data augmentation.\n",
        "    rotation_range=40,  # Randomly rotate images in the range (in degrees, 0-180), 40 degrees here, for data augmentation.\n",
        "    width_shift_range=0.1,  # Randomly translate pictures horizontally (fraction of total width) for data augmentation.\n",
        "    height_shift_range=0.1,  # Randomly translate pictures vertically (fraction of total height) for data augmentation.\n",
        "    zoom_range=.1,  # Randomly zoom inside pictures for data augmentation (10% zoom in or out).\n",
        "    rescale=1/255,  # Rescale the image by normalizing it. Normalization helps in faster convergence.\n",
        "    fill_mode='nearest',  # Points outside the boundaries of the input are filled according to the given mode ('nearest' uses the value of the nearest pixel).\n",
        "    shear_range=0.1,  # Shear Intensity (Shear angle in counter-clockwise direction in degrees) for data augmentation.\n",
        "    brightness_range=[0.5, 1.5],  # Range for picking a brightness shift value from. Here it's between 50% (darker) and 150% (brighter).\n",
        "    validation_split=0.2  # Reserve 10% of images for validation. This will split your data into training and validation.\n",
        ")"
      ],
      "metadata": {
        "id": "4JYYAwdYYomf"
      },
      "execution_count": null,
      "outputs": []
    },
    {
      "cell_type": "code",
      "source": [
        "# 'datagen' is an instance of 'ImageDataGenerator' which helps with real-time data augmentation.\n",
        "# Here, 'flow_from_directory' is used to generate batches of augmented/normalized data from the directory\n",
        "# specified by 'train_data_dir'. This data will be looped over in batches during training.\n",
        "train_generator = datagen.flow_from_directory(\n",
        "        train_data_dir,  # Directory where the training data is located\n",
        "        target_size = (image_size, image_size),  # Dimensions to which all images found will be resized\n",
        "        batch_size=batch_size,  # Size of the batches of data\n",
        "        class_mode='categorical',  # Because we use categorical_crossentropy loss, we need categorical labels\n",
        "        subset='training')  # Specifies this is the training subset of data (in conjunction with 'validation_split' in 'datagen')\n",
        "\n",
        "\n",
        "# Similar to the training generator, but this time the data is pulled from the same directory and specified for validation.\n",
        "# No data augmentation is applied to validation data, but it should be normalized like the training data.\n",
        "validation_generator = datagen.flow_from_directory(\n",
        "        train_data_dir,  # Directory where the training data is located (validation data is often in the same place)\n",
        "        target_size = (image_size, image_size),  # Dimensions to which all images found will be resized\n",
        "        batch_size=batch_size,  # Size of the batches of data\n",
        "        class_mode='categorical',  # Because we use categorical_crossentropy loss, we need categorical labels\n",
        "        subset='validation',  # Specifies this is the validation subset of data (in conjunction with 'validation_split' in 'datagen')\n",
        "        shuffle=False)  # Data will be read in order, without shuffling\n",
        "\n",
        "\n",
        "# 'test_datagen' is another instance of 'ImageDataGenerator' for the test set, but only rescaling is applied.\n",
        "# No data augmentation is used here because we want to evaluate the model on the original test data, not augmented data.\n",
        "test_datagen = ImageDataGenerator(rescale=1./255)  # Rescales the pixel values to the range [0, 1]\n",
        "\n",
        "# Similar to 'train_generator' and 'validation_generator', but for the test set.\n",
        "# Reads the test data from 'test_data_dir', applies rescaling, and generates batches of test data.\n",
        "test_generator = test_datagen.flow_from_directory(\n",
        "        test_data_dir,  # Directory where the test data is located\n",
        "        target_size=(image_size,image_size),  # Dimensions to which all images found will be resized\n",
        "        batch_size=batch_size,  # Size of the batches of data\n",
        "        class_mode='categorical',  # Because we use categorical_crossentropy loss, we need categorical labels\n",
        "        shuffle=False)"
      ],
      "metadata": {
        "id": "Qna65kTMY06n",
        "colab": {
          "base_uri": "https://localhost:8080/"
        },
        "outputId": "543ab63a-4335-46c6-dbbc-2ff9c50bdc43"
      },
      "execution_count": null,
      "outputs": [
        {
          "output_type": "stream",
          "name": "stdout",
          "text": [
            "Found 2338 images belonging to 2 classes.\n",
            "Found 584 images belonging to 2 classes.\n",
            "Found 82 images belonging to 2 classes.\n"
          ]
        }
      ]
    },
    {
      "cell_type": "code",
      "source": [
        "!pip install -U efficientnet"
      ],
      "metadata": {
        "id": "1d8zGeRjZDVj",
        "colab": {
          "base_uri": "https://localhost:8080/"
        },
        "outputId": "5025ed0e-d154-4e8a-828b-d5ac6fd507d8"
      },
      "execution_count": null,
      "outputs": [
        {
          "output_type": "stream",
          "name": "stdout",
          "text": [
            "Collecting efficientnet\n",
            "  Downloading efficientnet-1.1.1-py3-none-any.whl (18 kB)\n",
            "Collecting keras-applications<=1.0.8,>=1.0.7 (from efficientnet)\n",
            "  Downloading Keras_Applications-1.0.8-py3-none-any.whl (50 kB)\n",
            "\u001b[?25l     \u001b[90m━━━━━━━━━━━━━━━━━━━━━━━━━━━━━━━━━━━━━━━━\u001b[0m \u001b[32m0.0/50.7 kB\u001b[0m \u001b[31m?\u001b[0m eta \u001b[36m-:--:--\u001b[0m\r\u001b[2K     \u001b[90m━━━━━━━━━━━━━━━━━━━━━━━━━━━━━━━━━━━━━━━━\u001b[0m \u001b[32m50.7/50.7 kB\u001b[0m \u001b[31m2.1 MB/s\u001b[0m eta \u001b[36m0:00:00\u001b[0m\n",
            "\u001b[?25hRequirement already satisfied: scikit-image in /usr/local/lib/python3.10/dist-packages (from efficientnet) (0.19.3)\n",
            "Requirement already satisfied: numpy>=1.9.1 in /usr/local/lib/python3.10/dist-packages (from keras-applications<=1.0.8,>=1.0.7->efficientnet) (1.23.5)\n",
            "Requirement already satisfied: h5py in /usr/local/lib/python3.10/dist-packages (from keras-applications<=1.0.8,>=1.0.7->efficientnet) (3.9.0)\n",
            "Requirement already satisfied: scipy>=1.4.1 in /usr/local/lib/python3.10/dist-packages (from scikit-image->efficientnet) (1.11.4)\n",
            "Requirement already satisfied: networkx>=2.2 in /usr/local/lib/python3.10/dist-packages (from scikit-image->efficientnet) (3.2.1)\n",
            "Requirement already satisfied: pillow!=7.1.0,!=7.1.1,!=8.3.0,>=6.1.0 in /usr/local/lib/python3.10/dist-packages (from scikit-image->efficientnet) (9.4.0)\n",
            "Requirement already satisfied: imageio>=2.4.1 in /usr/local/lib/python3.10/dist-packages (from scikit-image->efficientnet) (2.31.6)\n",
            "Requirement already satisfied: tifffile>=2019.7.26 in /usr/local/lib/python3.10/dist-packages (from scikit-image->efficientnet) (2023.9.26)\n",
            "Requirement already satisfied: PyWavelets>=1.1.1 in /usr/local/lib/python3.10/dist-packages (from scikit-image->efficientnet) (1.5.0)\n",
            "Requirement already satisfied: packaging>=20.0 in /usr/local/lib/python3.10/dist-packages (from scikit-image->efficientnet) (23.2)\n",
            "Installing collected packages: keras-applications, efficientnet\n",
            "Successfully installed efficientnet-1.1.1 keras-applications-1.0.8\n"
          ]
        }
      ]
    },
    {
      "cell_type": "code",
      "source": [
        "import efficientnet.keras as efn\n",
        "# loading B4 without the final layer, we will change it\n",
        "pretrained_model = efn.EfficientNetB4(include_top=False, input_shape=(224,224,3), pooling='avg', weights='imagenet')\n",
        "\n",
        "x = pretrained_model.output\n",
        "x = Flatten()(x)\n",
        "\n",
        "predictions = Dense(2, activation=\"softmax\")(x)\n",
        "model = Model(inputs=pretrained_model.input, outputs=predictions )"
      ],
      "metadata": {
        "id": "ugRzfceQZIOx",
        "colab": {
          "base_uri": "https://localhost:8080/"
        },
        "outputId": "bdbc26aa-4167-42f2-c059-e304e7814698"
      },
      "execution_count": null,
      "outputs": [
        {
          "output_type": "stream",
          "name": "stdout",
          "text": [
            "Downloading data from https://github.com/Callidior/keras-applications/releases/download/efficientnet/efficientnet-b4_weights_tf_dim_ordering_tf_kernels_autoaugment_notop.h5\n",
            "71892840/71892840 [==============================] - 1s 0us/step\n"
          ]
        }
      ]
    },
    {
      "cell_type": "code",
      "source": [
        "# for layer in model.layers:\n",
        "#     layer.trainable = False"
      ],
      "metadata": {
        "id": "fUVobQCmZTAe"
      },
      "execution_count": null,
      "outputs": []
    },
    {
      "cell_type": "code",
      "source": [],
      "metadata": {
        "id": "nZPR1uz3Z3-F"
      },
      "execution_count": null,
      "outputs": []
    },
    {
      "cell_type": "code",
      "source": [
        "# # Let's print our layers\n",
        "# for (i,layer) in enumerate(model.layers):\n",
        "#     print(str(i) + \" \"+ layer.__class__.__name__, layer.trainable)"
      ],
      "metadata": {
        "id": "iAeF5i2XZ8Lz"
      },
      "execution_count": null,
      "outputs": []
    },
    {
      "cell_type": "code",
      "source": [
        "# x = Flatten()(x)\n",
        "# x = BatchNormalization()(x)\n",
        "# x = LeakyReLU()(x)\n",
        "# x = Dense(2048, activation=\"relu\")(x)\n",
        "# x = BatchNormalization()(x)\n",
        "# x = LeakyReLU()(x)\n",
        "# x = Dense(1024, activation=\"relu\")(x)\n",
        "# x = BatchNormalization()(x)\n",
        "# x = LeakyReLU()(x)"
      ],
      "metadata": {
        "id": "VFOHxtWjZ9y3"
      },
      "execution_count": null,
      "outputs": []
    },
    {
      "cell_type": "code",
      "source": [
        "print(model.summary())"
      ],
      "metadata": {
        "id": "Na93XW7AaDMB"
      },
      "execution_count": null,
      "outputs": []
    },
    {
      "cell_type": "code",
      "source": [
        "# Define a custom loss function for your model.\n",
        "# In this case, it's categorical cross-entropy with label smoothing.\n",
        "# Label smoothing is a regularization technique that prevents overfitting by slightly changing the true labels.\n",
        "def custom_loss(y_true, y_pred):\n",
        "    return tf.keras.losses.categorical_crossentropy(y_true, y_pred, label_smoothing=0.1)\n",
        "\n",
        "# Compile the model with the Adam optimizer and a learning rate of 0.0001.\n",
        "# The loss function is the custom function defined above, and the model will also track accuracy as a performance metric.\n",
        "model.compile(optimizer=Adam(0.0001), loss=custom_loss, metrics=['accuracy'])\n",
        "\n",
        "# Calculate the number of steps per epoch for training and validation.\n",
        "# This is done by dividing the total number of samples by the batch size for each generator.\n",
        "STEP_SIZE_TRAIN = train_generator.n // train_generator.batch_size\n",
        "STEP_SIZE_VALID = validation_generator.n // validation_generator.batch_size\n",
        "\n",
        "# Define a callback to reduce the learning rate if the validation accuracy plateaus.\n",
        "# The learning rate will be reduced by multiplying it by a factor of 0.2 if the accuracy does not improve after 2 epochs.\n",
        "# The reduction is subject to certain constraints to prevent it from decreasing below a minimum threshold.\n",
        "reduce_lr = tf.keras.callbacks.ReduceLROnPlateau(monitor = 'val_accuracy',\n",
        "                                                 factor = 0.2,\n",
        "                                                 patience = 2,\n",
        "                                                 verbose = 1,\n",
        "                                                 min_delta = 1e-4,\n",
        "                                                 min_lr = 1e-6,\n",
        "                                                 mode = 'max')\n",
        "\n",
        "# Define a callback for early stopping to prevent overfitting.\n",
        "# Training will stop if the validation accuracy does not improve by at least 0.0001 for 20 consecutive epochs.\n",
        "# If training is halted, the model will revert to the weights of the epoch with the best observed validation accuracy.\n",
        "earlystopping = tf.keras.callbacks.EarlyStopping(monitor = 'val_accuracy',\n",
        "                                                 min_delta = 1e-4,\n",
        "                                                 patience = 20,\n",
        "                                                 mode = 'max',\n",
        "                                                 restore_best_weights = True,\n",
        "                                                 verbose = 1)\n",
        "\n",
        "# Define a callback for model checkpoints to save the model architecture and weights.\n",
        "# This callback saves the model after every epoch where the validation accuracy improves.\n",
        "# Only the best performing model will be saved, and it will be stored in the file 'model.h5'.\n",
        "checkpointer = tf.keras.callbacks.ModelCheckpoint(filepath = 'model',\n",
        "                                                  monitor = 'val_accuracy',\n",
        "                                                  verbose = 1,\n",
        "                                                  save_best_only = True,\n",
        "                                                  save_weights_only = False,\n",
        "                                                  mode = 'max')\n",
        "\n",
        "# Group the callbacks into a list that can be passed to the model training function.\n",
        "callbacks = [earlystopping, reduce_lr, checkpointer]"
      ],
      "metadata": {
        "id": "npkua9TtaJdP"
      },
      "execution_count": null,
      "outputs": []
    },
    {
      "cell_type": "code",
      "source": [
        "history= model.fit(train_generator,\n",
        "          steps_per_epoch = STEP_SIZE_TRAIN,\n",
        "          validation_data = validation_generator,\n",
        "          validation_steps = STEP_SIZE_VALID,\n",
        "          epochs = EPOCHS,\n",
        "          callbacks = callbacks)"
      ],
      "metadata": {
        "colab": {
          "base_uri": "https://localhost:8080/"
        },
        "id": "dKtADUGtai5U",
        "outputId": "0dd027b9-695c-4bb4-a064-35fcfdfe36fe"
      },
      "execution_count": null,
      "outputs": [
        {
          "output_type": "stream",
          "name": "stdout",
          "text": [
            "Epoch 1/2\n",
            "146/146 [==============================] - ETA: 0s - loss: 0.3942 - accuracy: 0.8790\n",
            "Epoch 1: val_accuracy improved from -inf to 0.95833, saving model to model\n",
            "146/146 [==============================] - 1266s 8s/step - loss: 0.3942 - accuracy: 0.8790 - val_loss: 0.2834 - val_accuracy: 0.9583 - lr: 1.0000e-04\n",
            "Epoch 2/2\n",
            "146/146 [==============================] - ETA: 0s - loss: 0.2984 - accuracy: 0.9488\n",
            "Epoch 2: val_accuracy improved from 0.95833 to 0.97049, saving model to model\n",
            "146/146 [==============================] - 125s 855ms/step - loss: 0.2984 - accuracy: 0.9488 - val_loss: 0.2660 - val_accuracy: 0.9705 - lr: 1.0000e-04\n"
          ]
        }
      ]
    },
    {
      "cell_type": "code",
      "source": [
        "# Load the model from the directory it was saved to\n",
        "model = keras.models.load_model('model', custom_objects={'custom_loss': custom_loss})"
      ],
      "metadata": {
        "id": "j2gmoxKOa1LX"
      },
      "execution_count": null,
      "outputs": []
    },
    {
      "cell_type": "code",
      "source": [
        "import pandas as pd\n",
        "\n",
        "pd.DataFrame(history.history).plot(figsize=(15,8))\n",
        "plt.grid(True)\n",
        "plt.gca()\n",
        "plt.show()"
      ],
      "metadata": {
        "colab": {
          "base_uri": "https://localhost:8080/",
          "height": 676
        },
        "id": "E5l1ZkR2a3K_",
        "outputId": "0e755217-bdcb-4653-9a14-dacc6f10b3c2"
      },
      "execution_count": null,
      "outputs": [
        {
          "output_type": "display_data",
          "data": {
            "text/plain": [
              "<Figure size 1500x800 with 1 Axes>"
            ],
            "image/png": "[encoded data removed]"
          },
          "metadata": {}
        }
      ]
    },
    {
      "cell_type": "code",
      "source": [
        "classes =  \"dog, cat\""
      ],
      "metadata": {
        "id": "0U7FjEv015f2"
      },
      "execution_count": null,
      "outputs": []
    },
    {
      "cell_type": "code",
      "source": [
        "import matplotlib.pyplot as plt\n",
        "import sklearn\n",
        "from sklearn.metrics import classification_report, confusion_matrix, accuracy_score\n",
        "import numpy as np\n",
        "\n",
        "\n",
        "class_labels = test_generator.class_indices\n",
        "class_labels = {v: k for k, v in class_labels.items()}\n",
        "classes = list(class_labels.values())\n",
        "\n",
        "#Confusion Matrix and Classification Report\n",
        "y_pred=model.predict(test_generator,steps=test_generator.n/batch_size,verbose=1)\n",
        "y_pred = np.argmax(y_pred, axis=1)\n",
        "y_true = test_generator.classes\n",
        "\n",
        "print('Confusion Matrix')\n",
        "print(confusion_matrix(y_true, y_pred))\n",
        "\n",
        "\n",
        "print('Classification Report')\n",
        "target_names = list(class_labels.values())\n",
        "print(classification_report(y_true, y_pred, target_names= classes))\n",
        "\n",
        "plt.figure(figsize=(8,8))\n",
        "cnf_matrix = confusion_matrix(test_generator.classes, y_pred)"
      ],
      "metadata": {
        "id": "2sAnKDCYbQnz",
        "colab": {
          "base_uri": "https://localhost:8080/",
          "height": 277
        },
        "outputId": "b1ddf9e4-487c-41b5-c3f7-c404d5f0bf21"
      },
      "execution_count": null,
      "outputs": [
        {
          "output_type": "stream",
          "name": "stdout",
          "text": [
            "5/5 [==============================] - 1s 101ms/step\n",
            "Confusion Matrix\n",
            "[[41  0]\n",
            " [ 0 41]]\n",
            "Classification Report\n",
            "              precision    recall  f1-score   support\n",
            "\n",
            "        cats       1.00      1.00      1.00        41\n",
            "        dogs       1.00      1.00      1.00        41\n",
            "\n",
            "    accuracy                           1.00        82\n",
            "   macro avg       1.00      1.00      1.00        82\n",
            "weighted avg       1.00      1.00      1.00        82\n",
            "\n"
          ]
        },
        {
          "output_type": "display_data",
          "data": {
            "text/plain": [
              "<Figure size 800x800 with 0 Axes>"
            ]
          },
          "metadata": {}
        }
      ]
    },
    {
      "cell_type": "code",
      "source": [
        "import seaborn as sb\n",
        "\n",
        "# ax = plt.figure(figsize=(8, 6))\n",
        "fig = sb.heatmap(cnf_matrix, annot=True, fmt='g', cmap='Greens')  #annot=True to annotate cells, ftm='g' to disable scientific notation\n",
        "\n",
        "# labels, title and ticks\n",
        "fig.set_xlabel('Predicted labels')\n",
        "fig.set_ylabel('True labels')\n",
        "fig.set_title('Confusion Matrix')\n",
        "fig.xaxis.set_ticklabels(classes)\n",
        "fig.yaxis.set_ticklabels(classes)\n",
        "fig.figure.set_size_inches(10, 10)\n",
        "\n",
        "\n",
        "plt.show()"
      ],
      "metadata": {
        "id": "aoAOiY3lbYq5",
        "colab": {
          "base_uri": "https://localhost:8080/",
          "height": 872
        },
        "outputId": "7a781e52-2698-44c7-826e-39070bf98845"
      },
      "execution_count": null,
      "outputs": [
        {
          "output_type": "display_data",
          "data": {
            "text/plain": [
              "<Figure size 1000x1000 with 2 Axes>"
            ],
            "image/png": "[encoded data removed]"
          },
          "metadata": {}
        }
      ]
    },
    {
      "cell_type": "code",
      "source": [
        "from sklearn.metrics import accuracy_score\n",
        "# Calculate the accuracy\n",
        "accuracy = accuracy_score(y_true, y_pred)\n",
        "print(\"\\nAccuracy: {:.4f}\".format(accuracy))"
      ],
      "metadata": {
        "id": "h1g9rECqcRqN",
        "colab": {
          "base_uri": "https://localhost:8080/"
        },
        "outputId": "a3424ba1-4159-4704-b5f9-f33dececce80"
      },
      "execution_count": null,
      "outputs": [
        {
          "output_type": "stream",
          "name": "stdout",
          "text": [
            "\n",
            "Accuracy: 1.0000\n"
          ]
        }
      ]
    },
    {
      "cell_type": "code",
      "source": [
        "from sklearn.metrics import classification_report\n",
        "\n",
        "# Assuming y_test holds the true labels and y_classes holds the predicted labels\n",
        "# Calculate classification report\n",
        "report_dict = classification_report(y_true, y_pred, output_dict=True)\n",
        "\n",
        "# Now, you can access the average values\n",
        "macro_precision = report_dict['macro avg']['precision']\n",
        "macro_recall = report_dict['macro avg']['recall']\n",
        "macro_f1 = report_dict['macro avg']['f1-score']\n",
        "\n",
        "weighted_precision = report_dict['weighted avg']['precision']\n",
        "weighted_recall = report_dict['weighted avg']['recall']\n",
        "weighted_f1 = report_dict['weighted avg']['f1-score']\n",
        "\n",
        "\n",
        "# Print out the averages\n",
        "print(f\"Macro Average Precision: {macro_precision:.4f}\")\n",
        "print(f\"Macro Average Recall: {macro_recall:.4f}\")\n",
        "print(f\"Macro Average F1-score: {macro_f1:.4f}\\n\")\n",
        "\n",
        "print(f\"Weighted Average Precision: {weighted_precision:.4f}\")\n",
        "print(f\"Weighted Average Recall: {weighted_recall:.4f}\")\n",
        "print(f\"Weighted Average F1-score: {weighted_f1:.4f}\\n\")"
      ],
      "metadata": {
        "id": "uYYFlqG8ceQF",
        "colab": {
          "base_uri": "https://localhost:8080/"
        },
        "outputId": "f99c453a-9186-4480-b2b9-42e30b7cda01"
      },
      "execution_count": null,
      "outputs": [
        {
          "output_type": "stream",
          "name": "stdout",
          "text": [
            "Macro Average Precision: 1.0000\n",
            "Macro Average Recall: 1.0000\n",
            "Macro Average F1-score: 1.0000\n",
            "\n",
            "Weighted Average Precision: 1.0000\n",
            "Weighted Average Recall: 1.0000\n",
            "Weighted Average F1-score: 1.0000\n",
            "\n"
          ]
        }
      ]
    }
  ]
}