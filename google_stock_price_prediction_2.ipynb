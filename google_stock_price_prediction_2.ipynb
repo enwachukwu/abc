{
  "cells": [
    {
      "cell_type": "markdown",
      "metadata": {
        "id": "view-in-github",
        "colab_type": "text"
      },
      "source": [
        "<a href=\"https://colab.research.google.com/github/enwachukwu/abc/blob/main/google_stock_price_prediction_2.ipynb\" target=\"_parent\"><img src=\"https://colab.research.google.com/assets/colab-badge.svg\" alt=\"Open In Colab\"/></a>"
      ]
    },
    {
      "cell_type": "code",
      "execution_count": null,
      "metadata": {
        "id": "n9Olz1AFhOdj"
      },
      "outputs": [],
      "source": [
        "import numpy as np\n",
        "import matplotlib.pyplot as plt\n",
        "import pandas as pd\n",
        "from sklearn.preprocessing import MinMaxScaler\n",
        "from keras.models import Sequential\n",
        "from keras.layers import LSTM, Dropout, Dense"
      ]
    },
    {
      "cell_type": "code",
      "execution_count": null,
      "metadata": {
        "id": "-NSExh0BhwoJ"
      },
      "outputs": [],
      "source": [
        "# Load and preprocess training data\n",
        "dataset_train = pd.read_csv('/content/drive/MyDrive/DataSet/google_stock_dataset_train.csv')"
      ]
    },
    {
      "cell_type": "code",
      "source": [
        "dataset_train.shape"
      ],
      "metadata": {
        "id": "1Pa8RxXNoh6f",
        "colab": {
          "base_uri": "https://localhost:8080/"
        },
        "outputId": "1be0158e-17bb-4cda-e5ff-48917af11836"
      },
      "execution_count": null,
      "outputs": [
        {
          "output_type": "execute_result",
          "data": {
            "text/plain": [
              "(4028, 7)"
            ]
          },
          "metadata": {},
          "execution_count": 48
        }
      ]
    },
    {
      "cell_type": "code",
      "source": [
        "dataset_train.columns"
      ],
      "metadata": {
        "id": "gAyo-qn2ojm9",
        "colab": {
          "base_uri": "https://localhost:8080/"
        },
        "outputId": "6f31ed0c-64c1-44a4-b4a3-a9c8ee4e7804"
      },
      "execution_count": null,
      "outputs": [
        {
          "output_type": "execute_result",
          "data": {
            "text/plain": [
              "Index(['Date', 'High', 'Low', 'Open', 'Close', 'Volume', 'Adj Close'], dtype='object')"
            ]
          },
          "metadata": {},
          "execution_count": 49
        }
      ]
    },
    {
      "cell_type": "code",
      "source": [
        "dataset_train.dtypes"
      ],
      "metadata": {
        "id": "344G7TWWomew",
        "colab": {
          "base_uri": "https://localhost:8080/"
        },
        "outputId": "6fd6abf9-c186-4974-b2b9-5bad2ec9b096"
      },
      "execution_count": null,
      "outputs": [
        {
          "output_type": "execute_result",
          "data": {
            "text/plain": [
              "Date          object\n",
              "High         float64\n",
              "Low          float64\n",
              "Open         float64\n",
              "Close        float64\n",
              "Volume         int64\n",
              "Adj Close    float64\n",
              "dtype: object"
            ]
          },
          "metadata": {},
          "execution_count": 50
        }
      ]
    },
    {
      "cell_type": "code",
      "source": [
        "dataset_train.describe()"
      ],
      "metadata": {
        "id": "QaSWNsfnojcK",
        "colab": {
          "base_uri": "https://localhost:8080/",
          "height": 301
        },
        "outputId": "373e7167-3227-4412-d19a-4841ad8c3b76"
      },
      "execution_count": null,
      "outputs": [
        {
          "output_type": "execute_result",
          "data": {
            "text/plain": [
              "              High          Low         Open        Close        Volume  \\\n",
              "count  4028.000000  4028.000000  4028.000000  4028.000000  4.028000e+03   \n",
              "mean    566.945045   556.065319   561.553939   561.647973  6.503238e+06   \n",
              "std     409.651302   401.830176   405.497113   405.920800  7.590499e+06   \n",
              "min      88.866905    85.962791    87.322693    87.168274  7.922000e+03   \n",
              "25%     249.021606   242.920727   246.616871   246.508522  1.666089e+06   \n",
              "50%     376.207382   368.257172   370.307007   370.972015  3.968118e+06   \n",
              "75%     803.977478   793.692520   799.684998   798.019989  8.207298e+06   \n",
              "max    1847.199951  1822.650024  1824.520020  1827.989990  8.254163e+07   \n",
              "\n",
              "         Adj Close  \n",
              "count  4028.000000  \n",
              "mean    561.647973  \n",
              "std     405.920800  \n",
              "min      87.168274  \n",
              "25%     246.508522  \n",
              "50%     370.972015  \n",
              "75%     798.019989  \n",
              "max    1827.989990  "
            ],
            "text/html": [
              "\n",
              "  <div id=\"df-fa6d1508-2f87-4fb6-96bd-a71a471d019a\" class=\"colab-df-container\">\n",
              "    <div>\n",
              "<style scoped>\n",
              "    .dataframe tbody tr th:only-of-type {\n",
              "        vertical-align: middle;\n",
              "    }\n",
              "\n",
              "    .dataframe tbody tr th {\n",
              "        vertical-align: top;\n",
              "    }\n",
              "\n",
              "    .dataframe thead th {\n",
              "        text-align: right;\n",
              "    }\n",
              "</style>\n",
              "<table border=\"1\" class=\"dataframe\">\n",
              "  <thead>\n",
              "    <tr style=\"text-align: right;\">\n",
              "      <th></th>\n",
              "      <th>High</th>\n",
              "      <th>Low</th>\n",
              "      <th>Open</th>\n",
              "      <th>Close</th>\n",
              "      <th>Volume</th>\n",
              "      <th>Adj Close</th>\n",
              "    </tr>\n",
              "  </thead>\n",
              "  <tbody>\n",
              "    <tr>\n",
              "      <th>count</th>\n",
              "      <td>4028.000000</td>\n",
              "      <td>4028.000000</td>\n",
              "      <td>4028.000000</td>\n",
              "      <td>4028.000000</td>\n",
              "      <td>4.028000e+03</td>\n",
              "      <td>4028.000000</td>\n",
              "    </tr>\n",
              "    <tr>\n",
              "      <th>mean</th>\n",
              "      <td>566.945045</td>\n",
              "      <td>556.065319</td>\n",
              "      <td>561.553939</td>\n",
              "      <td>561.647973</td>\n",
              "      <td>6.503238e+06</td>\n",
              "      <td>561.647973</td>\n",
              "    </tr>\n",
              "    <tr>\n",
              "      <th>std</th>\n",
              "      <td>409.651302</td>\n",
              "      <td>401.830176</td>\n",
              "      <td>405.497113</td>\n",
              "      <td>405.920800</td>\n",
              "      <td>7.590499e+06</td>\n",
              "      <td>405.920800</td>\n",
              "    </tr>\n",
              "    <tr>\n",
              "      <th>min</th>\n",
              "      <td>88.866905</td>\n",
              "      <td>85.962791</td>\n",
              "      <td>87.322693</td>\n",
              "      <td>87.168274</td>\n",
              "      <td>7.922000e+03</td>\n",
              "      <td>87.168274</td>\n",
              "    </tr>\n",
              "    <tr>\n",
              "      <th>25%</th>\n",
              "      <td>249.021606</td>\n",
              "      <td>242.920727</td>\n",
              "      <td>246.616871</td>\n",
              "      <td>246.508522</td>\n",
              "      <td>1.666089e+06</td>\n",
              "      <td>246.508522</td>\n",
              "    </tr>\n",
              "    <tr>\n",
              "      <th>50%</th>\n",
              "      <td>376.207382</td>\n",
              "      <td>368.257172</td>\n",
              "      <td>370.307007</td>\n",
              "      <td>370.972015</td>\n",
              "      <td>3.968118e+06</td>\n",
              "      <td>370.972015</td>\n",
              "    </tr>\n",
              "    <tr>\n",
              "      <th>75%</th>\n",
              "      <td>803.977478</td>\n",
              "      <td>793.692520</td>\n",
              "      <td>799.684998</td>\n",
              "      <td>798.019989</td>\n",
              "      <td>8.207298e+06</td>\n",
              "      <td>798.019989</td>\n",
              "    </tr>\n",
              "    <tr>\n",
              "      <th>max</th>\n",
              "      <td>1847.199951</td>\n",
              "      <td>1822.650024</td>\n",
              "      <td>1824.520020</td>\n",
              "      <td>1827.989990</td>\n",
              "      <td>8.254163e+07</td>\n",
              "      <td>1827.989990</td>\n",
              "    </tr>\n",
              "  </tbody>\n",
              "</table>\n",
              "</div>\n",
              "    <div class=\"colab-df-buttons\">\n",
              "\n",
              "  <div class=\"colab-df-container\">\n",
              "    <button class=\"colab-df-convert\" onclick=\"convertToInteractive('df-fa6d1508-2f87-4fb6-96bd-a71a471d019a')\"\n",
              "            title=\"Convert this dataframe to an interactive table.\"\n",
              "            style=\"display:none;\">\n",
              "\n",
              "  <svg xmlns=\"http://www.w3.org/2000/svg\" height=\"24px\" viewBox=\"0 -960 960 960\">\n",
              "    <path d=\"M120-120v-720h720v720H120Zm60-500h600v-160H180v160Zm220 220h160v-160H400v160Zm0 220h160v-160H400v160ZM180-400h160v-160H180v160Zm440 0h160v-160H620v160ZM180-180h160v-160H180v160Zm440 0h160v-160H620v160Z\"/>\n",
              "  </svg>\n",
              "    </button>\n",
              "\n",
              "  <style>\n",
              "    .colab-df-container {\n",
              "      display:flex;\n",
              "      gap: 12px;\n",
              "    }\n",
              "\n",
              "    .colab-df-convert {\n",
              "      background-color: #E8F0FE;\n",
              "      border: none;\n",
              "      border-radius: 50%;\n",
              "      cursor: pointer;\n",
              "      display: none;\n",
              "      fill: #1967D2;\n",
              "      height: 32px;\n",
              "      padding: 0 0 0 0;\n",
              "      width: 32px;\n",
              "    }\n",
              "\n",
              "    .colab-df-convert:hover {\n",
              "      background-color: #E2EBFA;\n",
              "      box-shadow: 0px 1px 2px rgba(60, 64, 67, 0.3), 0px 1px 3px 1px rgba(60, 64, 67, 0.15);\n",
              "      fill: #174EA6;\n",
              "    }\n",
              "\n",
              "    .colab-df-buttons div {\n",
              "      margin-bottom: 4px;\n",
              "    }\n",
              "\n",
              "    [theme=dark] .colab-df-convert {\n",
              "      background-color: #3B4455;\n",
              "      fill: #D2E3FC;\n",
              "    }\n",
              "\n",
              "    [theme=dark] .colab-df-convert:hover {\n",
              "      background-color: #434B5C;\n",
              "      box-shadow: 0px 1px 3px 1px rgba(0, 0, 0, 0.15);\n",
              "      filter: drop-shadow(0px 1px 2px rgba(0, 0, 0, 0.3));\n",
              "      fill: #FFFFFF;\n",
              "    }\n",
              "  </style>\n",
              "\n",
              "    <script>\n",
              "      const buttonEl =\n",
              "        document.querySelector('#df-fa6d1508-2f87-4fb6-96bd-a71a471d019a button.colab-df-convert');\n",
              "      buttonEl.style.display =\n",
              "        google.colab.kernel.accessAllowed ? 'block' : 'none';\n",
              "\n",
              "      async function convertToInteractive(key) {\n",
              "        const element = document.querySelector('#df-fa6d1508-2f87-4fb6-96bd-a71a471d019a');\n",
              "        const dataTable =\n",
              "          await google.colab.kernel.invokeFunction('convertToInteractive',\n",
              "                                                    [key], {});\n",
              "        if (!dataTable) return;\n",
              "\n",
              "        const docLinkHtml = 'Like what you see? Visit the ' +\n",
              "          '<a target=\"_blank\" href=https://colab.research.google.com/notebooks/data_table.ipynb>data table notebook</a>'\n",
              "          + ' to learn more about interactive tables.';\n",
              "        element.innerHTML = '';\n",
              "        dataTable['output_type'] = 'display_data';\n",
              "        await google.colab.output.renderOutput(dataTable, element);\n",
              "        const docLink = document.createElement('div');\n",
              "        docLink.innerHTML = docLinkHtml;\n",
              "        element.appendChild(docLink);\n",
              "      }\n",
              "    </script>\n",
              "  </div>\n",
              "\n",
              "\n",
              "<div id=\"df-156852a4-d3d2-4324-9095-6c79ff9f2b99\">\n",
              "  <button class=\"colab-df-quickchart\" onclick=\"quickchart('df-156852a4-d3d2-4324-9095-6c79ff9f2b99')\"\n",
              "            title=\"Suggest charts\"\n",
              "            style=\"display:none;\">\n",
              "\n",
              "<svg xmlns=\"http://www.w3.org/2000/svg\" height=\"24px\"viewBox=\"0 0 24 24\"\n",
              "     width=\"24px\">\n",
              "    <g>\n",
              "        <path d=\"M19 3H5c-1.1 0-2 .9-2 2v14c0 1.1.9 2 2 2h14c1.1 0 2-.9 2-2V5c0-1.1-.9-2-2-2zM9 17H7v-7h2v7zm4 0h-2V7h2v10zm4 0h-2v-4h2v4z\"/>\n",
              "    </g>\n",
              "</svg>\n",
              "  </button>\n",
              "\n",
              "<style>\n",
              "  .colab-df-quickchart {\n",
              "      --bg-color: #E8F0FE;\n",
              "      --fill-color: #1967D2;\n",
              "      --hover-bg-color: #E2EBFA;\n",
              "      --hover-fill-color: #174EA6;\n",
              "      --disabled-fill-color: #AAA;\n",
              "      --disabled-bg-color: #DDD;\n",
              "  }\n",
              "\n",
              "  [theme=dark] .colab-df-quickchart {\n",
              "      --bg-color: #3B4455;\n",
              "      --fill-color: #D2E3FC;\n",
              "      --hover-bg-color: #434B5C;\n",
              "      --hover-fill-color: #FFFFFF;\n",
              "      --disabled-bg-color: #3B4455;\n",
              "      --disabled-fill-color: #666;\n",
              "  }\n",
              "\n",
              "  .colab-df-quickchart {\n",
              "    background-color: var(--bg-color);\n",
              "    border: none;\n",
              "    border-radius: 50%;\n",
              "    cursor: pointer;\n",
              "    display: none;\n",
              "    fill: var(--fill-color);\n",
              "    height: 32px;\n",
              "    padding: 0;\n",
              "    width: 32px;\n",
              "  }\n",
              "\n",
              "  .colab-df-quickchart:hover {\n",
              "    background-color: var(--hover-bg-color);\n",
              "    box-shadow: 0 1px 2px rgba(60, 64, 67, 0.3), 0 1px 3px 1px rgba(60, 64, 67, 0.15);\n",
              "    fill: var(--button-hover-fill-color);\n",
              "  }\n",
              "\n",
              "  .colab-df-quickchart-complete:disabled,\n",
              "  .colab-df-quickchart-complete:disabled:hover {\n",
              "    background-color: var(--disabled-bg-color);\n",
              "    fill: var(--disabled-fill-color);\n",
              "    box-shadow: none;\n",
              "  }\n",
              "\n",
              "  .colab-df-spinner {\n",
              "    border: 2px solid var(--fill-color);\n",
              "    border-color: transparent;\n",
              "    border-bottom-color: var(--fill-color);\n",
              "    animation:\n",
              "      spin 1s steps(1) infinite;\n",
              "  }\n",
              "\n",
              "  @keyframes spin {\n",
              "    0% {\n",
              "      border-color: transparent;\n",
              "      border-bottom-color: var(--fill-color);\n",
              "      border-left-color: var(--fill-color);\n",
              "    }\n",
              "    20% {\n",
              "      border-color: transparent;\n",
              "      border-left-color: var(--fill-color);\n",
              "      border-top-color: var(--fill-color);\n",
              "    }\n",
              "    30% {\n",
              "      border-color: transparent;\n",
              "      border-left-color: var(--fill-color);\n",
              "      border-top-color: var(--fill-color);\n",
              "      border-right-color: var(--fill-color);\n",
              "    }\n",
              "    40% {\n",
              "      border-color: transparent;\n",
              "      border-right-color: var(--fill-color);\n",
              "      border-top-color: var(--fill-color);\n",
              "    }\n",
              "    60% {\n",
              "      border-color: transparent;\n",
              "      border-right-color: var(--fill-color);\n",
              "    }\n",
              "    80% {\n",
              "      border-color: transparent;\n",
              "      border-right-color: var(--fill-color);\n",
              "      border-bottom-color: var(--fill-color);\n",
              "    }\n",
              "    90% {\n",
              "      border-color: transparent;\n",
              "      border-bottom-color: var(--fill-color);\n",
              "    }\n",
              "  }\n",
              "</style>\n",
              "\n",
              "  <script>\n",
              "    async function quickchart(key) {\n",
              "      const quickchartButtonEl =\n",
              "        document.querySelector('#' + key + ' button');\n",
              "      quickchartButtonEl.disabled = true;  // To prevent multiple clicks.\n",
              "      quickchartButtonEl.classList.add('colab-df-spinner');\n",
              "      try {\n",
              "        const charts = await google.colab.kernel.invokeFunction(\n",
              "            'suggestCharts', [key], {});\n",
              "      } catch (error) {\n",
              "        console.error('Error during call to suggestCharts:', error);\n",
              "      }\n",
              "      quickchartButtonEl.classList.remove('colab-df-spinner');\n",
              "      quickchartButtonEl.classList.add('colab-df-quickchart-complete');\n",
              "    }\n",
              "    (() => {\n",
              "      let quickchartButtonEl =\n",
              "        document.querySelector('#df-156852a4-d3d2-4324-9095-6c79ff9f2b99 button');\n",
              "      quickchartButtonEl.style.display =\n",
              "        google.colab.kernel.accessAllowed ? 'block' : 'none';\n",
              "    })();\n",
              "  </script>\n",
              "</div>\n",
              "    </div>\n",
              "  </div>\n"
            ]
          },
          "metadata": {},
          "execution_count": 51
        }
      ]
    },
    {
      "cell_type": "code",
      "source": [
        "dataset_train.isna()"
      ],
      "metadata": {
        "id": "oBmw6WT1ojQ_",
        "colab": {
          "base_uri": "https://localhost:8080/",
          "height": 424
        },
        "outputId": "4c31cedb-acf9-4fd3-8e8a-e9d077f3880d"
      },
      "execution_count": null,
      "outputs": [
        {
          "output_type": "execute_result",
          "data": {
            "text/plain": [
              "       Date   High    Low   Open  Close  Volume  Adj Close\n",
              "0     False  False  False  False  False   False      False\n",
              "1     False  False  False  False  False   False      False\n",
              "2     False  False  False  False  False   False      False\n",
              "3     False  False  False  False  False   False      False\n",
              "4     False  False  False  False  False   False      False\n",
              "...     ...    ...    ...    ...    ...     ...        ...\n",
              "4023  False  False  False  False  False   False      False\n",
              "4024  False  False  False  False  False   False      False\n",
              "4025  False  False  False  False  False   False      False\n",
              "4026  False  False  False  False  False   False      False\n",
              "4027  False  False  False  False  False   False      False\n",
              "\n",
              "[4028 rows x 7 columns]"
            ],
            "text/html": [
              "\n",
              "  <div id=\"df-4badf6de-8c9b-4b5c-b310-f03b7ed6cc0e\" class=\"colab-df-container\">\n",
              "    <div>\n",
              "<style scoped>\n",
              "    .dataframe tbody tr th:only-of-type {\n",
              "        vertical-align: middle;\n",
              "    }\n",
              "\n",
              "    .dataframe tbody tr th {\n",
              "        vertical-align: top;\n",
              "    }\n",
              "\n",
              "    .dataframe thead th {\n",
              "        text-align: right;\n",
              "    }\n",
              "</style>\n",
              "<table border=\"1\" class=\"dataframe\">\n",
              "  <thead>\n",
              "    <tr style=\"text-align: right;\">\n",
              "      <th></th>\n",
              "      <th>Date</th>\n",
              "      <th>High</th>\n",
              "      <th>Low</th>\n",
              "      <th>Open</th>\n",
              "      <th>Close</th>\n",
              "      <th>Volume</th>\n",
              "      <th>Adj Close</th>\n",
              "    </tr>\n",
              "  </thead>\n",
              "  <tbody>\n",
              "    <tr>\n",
              "      <th>0</th>\n",
              "      <td>False</td>\n",
              "      <td>False</td>\n",
              "      <td>False</td>\n",
              "      <td>False</td>\n",
              "      <td>False</td>\n",
              "      <td>False</td>\n",
              "      <td>False</td>\n",
              "    </tr>\n",
              "    <tr>\n",
              "      <th>1</th>\n",
              "      <td>False</td>\n",
              "      <td>False</td>\n",
              "      <td>False</td>\n",
              "      <td>False</td>\n",
              "      <td>False</td>\n",
              "      <td>False</td>\n",
              "      <td>False</td>\n",
              "    </tr>\n",
              "    <tr>\n",
              "      <th>2</th>\n",
              "      <td>False</td>\n",
              "      <td>False</td>\n",
              "      <td>False</td>\n",
              "      <td>False</td>\n",
              "      <td>False</td>\n",
              "      <td>False</td>\n",
              "      <td>False</td>\n",
              "    </tr>\n",
              "    <tr>\n",
              "      <th>3</th>\n",
              "      <td>False</td>\n",
              "      <td>False</td>\n",
              "      <td>False</td>\n",
              "      <td>False</td>\n",
              "      <td>False</td>\n",
              "      <td>False</td>\n",
              "      <td>False</td>\n",
              "    </tr>\n",
              "    <tr>\n",
              "      <th>4</th>\n",
              "      <td>False</td>\n",
              "      <td>False</td>\n",
              "      <td>False</td>\n",
              "      <td>False</td>\n",
              "      <td>False</td>\n",
              "      <td>False</td>\n",
              "      <td>False</td>\n",
              "    </tr>\n",
              "    <tr>\n",
              "      <th>...</th>\n",
              "      <td>...</td>\n",
              "      <td>...</td>\n",
              "      <td>...</td>\n",
              "      <td>...</td>\n",
              "      <td>...</td>\n",
              "      <td>...</td>\n",
              "      <td>...</td>\n",
              "    </tr>\n",
              "    <tr>\n",
              "      <th>4023</th>\n",
              "      <td>False</td>\n",
              "      <td>False</td>\n",
              "      <td>False</td>\n",
              "      <td>False</td>\n",
              "      <td>False</td>\n",
              "      <td>False</td>\n",
              "      <td>False</td>\n",
              "    </tr>\n",
              "    <tr>\n",
              "      <th>4024</th>\n",
              "      <td>False</td>\n",
              "      <td>False</td>\n",
              "      <td>False</td>\n",
              "      <td>False</td>\n",
              "      <td>False</td>\n",
              "      <td>False</td>\n",
              "      <td>False</td>\n",
              "    </tr>\n",
              "    <tr>\n",
              "      <th>4025</th>\n",
              "      <td>False</td>\n",
              "      <td>False</td>\n",
              "      <td>False</td>\n",
              "      <td>False</td>\n",
              "      <td>False</td>\n",
              "      <td>False</td>\n",
              "      <td>False</td>\n",
              "    </tr>\n",
              "    <tr>\n",
              "      <th>4026</th>\n",
              "      <td>False</td>\n",
              "      <td>False</td>\n",
              "      <td>False</td>\n",
              "      <td>False</td>\n",
              "      <td>False</td>\n",
              "      <td>False</td>\n",
              "      <td>False</td>\n",
              "    </tr>\n",
              "    <tr>\n",
              "      <th>4027</th>\n",
              "      <td>False</td>\n",
              "      <td>False</td>\n",
              "      <td>False</td>\n",
              "      <td>False</td>\n",
              "      <td>False</td>\n",
              "      <td>False</td>\n",
              "      <td>False</td>\n",
              "    </tr>\n",
              "  </tbody>\n",
              "</table>\n",
              "<p>4028 rows × 7 columns</p>\n",
              "</div>\n",
              "    <div class=\"colab-df-buttons\">\n",
              "\n",
              "  <div class=\"colab-df-container\">\n",
              "    <button class=\"colab-df-convert\" onclick=\"convertToInteractive('df-4badf6de-8c9b-4b5c-b310-f03b7ed6cc0e')\"\n",
              "            title=\"Convert this dataframe to an interactive table.\"\n",
              "            style=\"display:none;\">\n",
              "\n",
              "  <svg xmlns=\"http://www.w3.org/2000/svg\" height=\"24px\" viewBox=\"0 -960 960 960\">\n",
              "    <path d=\"M120-120v-720h720v720H120Zm60-500h600v-160H180v160Zm220 220h160v-160H400v160Zm0 220h160v-160H400v160ZM180-400h160v-160H180v160Zm440 0h160v-160H620v160ZM180-180h160v-160H180v160Zm440 0h160v-160H620v160Z\"/>\n",
              "  </svg>\n",
              "    </button>\n",
              "\n",
              "  <style>\n",
              "    .colab-df-container {\n",
              "      display:flex;\n",
              "      gap: 12px;\n",
              "    }\n",
              "\n",
              "    .colab-df-convert {\n",
              "      background-color: #E8F0FE;\n",
              "      border: none;\n",
              "      border-radius: 50%;\n",
              "      cursor: pointer;\n",
              "      display: none;\n",
              "      fill: #1967D2;\n",
              "      height: 32px;\n",
              "      padding: 0 0 0 0;\n",
              "      width: 32px;\n",
              "    }\n",
              "\n",
              "    .colab-df-convert:hover {\n",
              "      background-color: #E2EBFA;\n",
              "      box-shadow: 0px 1px 2px rgba(60, 64, 67, 0.3), 0px 1px 3px 1px rgba(60, 64, 67, 0.15);\n",
              "      fill: #174EA6;\n",
              "    }\n",
              "\n",
              "    .colab-df-buttons div {\n",
              "      margin-bottom: 4px;\n",
              "    }\n",
              "\n",
              "    [theme=dark] .colab-df-convert {\n",
              "      background-color: #3B4455;\n",
              "      fill: #D2E3FC;\n",
              "    }\n",
              "\n",
              "    [theme=dark] .colab-df-convert:hover {\n",
              "      background-color: #434B5C;\n",
              "      box-shadow: 0px 1px 3px 1px rgba(0, 0, 0, 0.15);\n",
              "      filter: drop-shadow(0px 1px 2px rgba(0, 0, 0, 0.3));\n",
              "      fill: #FFFFFF;\n",
              "    }\n",
              "  </style>\n",
              "\n",
              "    <script>\n",
              "      const buttonEl =\n",
              "        document.querySelector('#df-4badf6de-8c9b-4b5c-b310-f03b7ed6cc0e button.colab-df-convert');\n",
              "      buttonEl.style.display =\n",
              "        google.colab.kernel.accessAllowed ? 'block' : 'none';\n",
              "\n",
              "      async function convertToInteractive(key) {\n",
              "        const element = document.querySelector('#df-4badf6de-8c9b-4b5c-b310-f03b7ed6cc0e');\n",
              "        const dataTable =\n",
              "          await google.colab.kernel.invokeFunction('convertToInteractive',\n",
              "                                                    [key], {});\n",
              "        if (!dataTable) return;\n",
              "\n",
              "        const docLinkHtml = 'Like what you see? Visit the ' +\n",
              "          '<a target=\"_blank\" href=https://colab.research.google.com/notebooks/data_table.ipynb>data table notebook</a>'\n",
              "          + ' to learn more about interactive tables.';\n",
              "        element.innerHTML = '';\n",
              "        dataTable['output_type'] = 'display_data';\n",
              "        await google.colab.output.renderOutput(dataTable, element);\n",
              "        const docLink = document.createElement('div');\n",
              "        docLink.innerHTML = docLinkHtml;\n",
              "        element.appendChild(docLink);\n",
              "      }\n",
              "    </script>\n",
              "  </div>\n",
              "\n",
              "\n",
              "<div id=\"df-a16019a9-0076-4a52-95b0-cc1f7577818c\">\n",
              "  <button class=\"colab-df-quickchart\" onclick=\"quickchart('df-a16019a9-0076-4a52-95b0-cc1f7577818c')\"\n",
              "            title=\"Suggest charts\"\n",
              "            style=\"display:none;\">\n",
              "\n",
              "<svg xmlns=\"http://www.w3.org/2000/svg\" height=\"24px\"viewBox=\"0 0 24 24\"\n",
              "     width=\"24px\">\n",
              "    <g>\n",
              "        <path d=\"M19 3H5c-1.1 0-2 .9-2 2v14c0 1.1.9 2 2 2h14c1.1 0 2-.9 2-2V5c0-1.1-.9-2-2-2zM9 17H7v-7h2v7zm4 0h-2V7h2v10zm4 0h-2v-4h2v4z\"/>\n",
              "    </g>\n",
              "</svg>\n",
              "  </button>\n",
              "\n",
              "<style>\n",
              "  .colab-df-quickchart {\n",
              "      --bg-color: #E8F0FE;\n",
              "      --fill-color: #1967D2;\n",
              "      --hover-bg-color: #E2EBFA;\n",
              "      --hover-fill-color: #174EA6;\n",
              "      --disabled-fill-color: #AAA;\n",
              "      --disabled-bg-color: #DDD;\n",
              "  }\n",
              "\n",
              "  [theme=dark] .colab-df-quickchart {\n",
              "      --bg-color: #3B4455;\n",
              "      --fill-color: #D2E3FC;\n",
              "      --hover-bg-color: #434B5C;\n",
              "      --hover-fill-color: #FFFFFF;\n",
              "      --disabled-bg-color: #3B4455;\n",
              "      --disabled-fill-color: #666;\n",
              "  }\n",
              "\n",
              "  .colab-df-quickchart {\n",
              "    background-color: var(--bg-color);\n",
              "    border: none;\n",
              "    border-radius: 50%;\n",
              "    cursor: pointer;\n",
              "    display: none;\n",
              "    fill: var(--fill-color);\n",
              "    height: 32px;\n",
              "    padding: 0;\n",
              "    width: 32px;\n",
              "  }\n",
              "\n",
              "  .colab-df-quickchart:hover {\n",
              "    background-color: var(--hover-bg-color);\n",
              "    box-shadow: 0 1px 2px rgba(60, 64, 67, 0.3), 0 1px 3px 1px rgba(60, 64, 67, 0.15);\n",
              "    fill: var(--button-hover-fill-color);\n",
              "  }\n",
              "\n",
              "  .colab-df-quickchart-complete:disabled,\n",
              "  .colab-df-quickchart-complete:disabled:hover {\n",
              "    background-color: var(--disabled-bg-color);\n",
              "    fill: var(--disabled-fill-color);\n",
              "    box-shadow: none;\n",
              "  }\n",
              "\n",
              "  .colab-df-spinner {\n",
              "    border: 2px solid var(--fill-color);\n",
              "    border-color: transparent;\n",
              "    border-bottom-color: var(--fill-color);\n",
              "    animation:\n",
              "      spin 1s steps(1) infinite;\n",
              "  }\n",
              "\n",
              "  @keyframes spin {\n",
              "    0% {\n",
              "      border-color: transparent;\n",
              "      border-bottom-color: var(--fill-color);\n",
              "      border-left-color: var(--fill-color);\n",
              "    }\n",
              "    20% {\n",
              "      border-color: transparent;\n",
              "      border-left-color: var(--fill-color);\n",
              "      border-top-color: var(--fill-color);\n",
              "    }\n",
              "    30% {\n",
              "      border-color: transparent;\n",
              "      border-left-color: var(--fill-color);\n",
              "      border-top-color: var(--fill-color);\n",
              "      border-right-color: var(--fill-color);\n",
              "    }\n",
              "    40% {\n",
              "      border-color: transparent;\n",
              "      border-right-color: var(--fill-color);\n",
              "      border-top-color: var(--fill-color);\n",
              "    }\n",
              "    60% {\n",
              "      border-color: transparent;\n",
              "      border-right-color: var(--fill-color);\n",
              "    }\n",
              "    80% {\n",
              "      border-color: transparent;\n",
              "      border-right-color: var(--fill-color);\n",
              "      border-bottom-color: var(--fill-color);\n",
              "    }\n",
              "    90% {\n",
              "      border-color: transparent;\n",
              "      border-bottom-color: var(--fill-color);\n",
              "    }\n",
              "  }\n",
              "</style>\n",
              "\n",
              "  <script>\n",
              "    async function quickchart(key) {\n",
              "      const quickchartButtonEl =\n",
              "        document.querySelector('#' + key + ' button');\n",
              "      quickchartButtonEl.disabled = true;  // To prevent multiple clicks.\n",
              "      quickchartButtonEl.classList.add('colab-df-spinner');\n",
              "      try {\n",
              "        const charts = await google.colab.kernel.invokeFunction(\n",
              "            'suggestCharts', [key], {});\n",
              "      } catch (error) {\n",
              "        console.error('Error during call to suggestCharts:', error);\n",
              "      }\n",
              "      quickchartButtonEl.classList.remove('colab-df-spinner');\n",
              "      quickchartButtonEl.classList.add('colab-df-quickchart-complete');\n",
              "    }\n",
              "    (() => {\n",
              "      let quickchartButtonEl =\n",
              "        document.querySelector('#df-a16019a9-0076-4a52-95b0-cc1f7577818c button');\n",
              "      quickchartButtonEl.style.display =\n",
              "        google.colab.kernel.accessAllowed ? 'block' : 'none';\n",
              "    })();\n",
              "  </script>\n",
              "</div>\n",
              "    </div>\n",
              "  </div>\n"
            ]
          },
          "metadata": {},
          "execution_count": 52
        }
      ]
    },
    {
      "cell_type": "code",
      "source": [
        "dataset_train.isna().sum()"
      ],
      "metadata": {
        "id": "FlW0e9ohojEz",
        "colab": {
          "base_uri": "https://localhost:8080/"
        },
        "outputId": "37ca2697-8d55-43c7-8f13-4290311a66a8"
      },
      "execution_count": null,
      "outputs": [
        {
          "output_type": "execute_result",
          "data": {
            "text/plain": [
              "Date         0\n",
              "High         0\n",
              "Low          0\n",
              "Open         0\n",
              "Close        0\n",
              "Volume       0\n",
              "Adj Close    0\n",
              "dtype: int64"
            ]
          },
          "metadata": {},
          "execution_count": 53
        }
      ]
    },
    {
      "cell_type": "code",
      "source": [
        "dataset_train.duplicated()"
      ],
      "metadata": {
        "id": "QubRoIG5oi4R",
        "colab": {
          "base_uri": "https://localhost:8080/"
        },
        "outputId": "69bab438-8f16-49de-e7ef-8229777884b6"
      },
      "execution_count": null,
      "outputs": [
        {
          "output_type": "execute_result",
          "data": {
            "text/plain": [
              "0       False\n",
              "1       False\n",
              "2       False\n",
              "3       False\n",
              "4       False\n",
              "        ...  \n",
              "4023    False\n",
              "4024    False\n",
              "4025    False\n",
              "4026    False\n",
              "4027    False\n",
              "Length: 4028, dtype: bool"
            ]
          },
          "metadata": {},
          "execution_count": 54
        }
      ]
    },
    {
      "cell_type": "code",
      "source": [
        "import matplotlib.pyplot as plt\n",
        "plt.figure(figsize=(12, 6))\n",
        "plt.plot(dataset_train['Date'], dataset_train['Open'])\n",
        "plt.xlabel('Date')\n",
        "plt.ylabel('Open Price')\n",
        "plt.title('Open Price Over Time')\n",
        "plt.show"
      ],
      "metadata": {
        "id": "9PvICv0Ooiiv",
        "colab": {
          "base_uri": "https://localhost:8080/",
          "height": 581
        },
        "outputId": "36adfe17-5f27-4700-bd83-8e8a66338bd4"
      },
      "execution_count": null,
      "outputs": [
        {
          "output_type": "execute_result",
          "data": {
            "text/plain": [
              "<function matplotlib.pyplot.show(close=None, block=None)>"
            ]
          },
          "metadata": {},
          "execution_count": 55
        },
        {
          "output_type": "display_data",
          "data": {
            "text/plain": [
              "<Figure size 1200x600 with 1 Axes>"
            ],
            "image/png": "[encoded data removed]"
          },
          "metadata": {}
        }
      ]
    },
    {
      "cell_type": "code",
      "execution_count": null,
      "metadata": {
        "id": "VhwrLKGrhkoW"
      },
      "outputs": [],
      "source": [
        "training_set = dataset_train.iloc[:, 1:2].values"
      ]
    },
    {
      "cell_type": "code",
      "execution_count": null,
      "metadata": {
        "id": "aItcDxAlh3x1"
      },
      "outputs": [],
      "source": [
        "from sklearn.preprocessing import StandardScaler\n",
        "sc = StandardScaler()\n",
        "#sc = MinMaxScaler(feature_range=(0, 1))\n",
        "training_set_scaled = sc.fit_transform(training_set)"
      ]
    },
    {
      "cell_type": "code",
      "execution_count": null,
      "metadata": {
        "id": "2nCM0DGKh9u_"
      },
      "outputs": [],
      "source": [
        "x_train, y_train = [], []"
      ]
    },
    {
      "cell_type": "code",
      "execution_count": null,
      "metadata": {
        "id": "UrqFQQR0iETa"
      },
      "outputs": [],
      "source": [
        "for i in range(60, len(training_set_scaled)):\n",
        "    x_train.append(training_set_scaled[i - 60:i, 0])\n",
        "    y_train.append(training_set_scaled[i, 0])"
      ]
    },
    {
      "cell_type": "code",
      "execution_count": null,
      "metadata": {
        "id": "a1N6Q-iliJkg"
      },
      "outputs": [],
      "source": [
        "x_train, y_train = np.array(x_train), np.array(y_train)"
      ]
    },
    {
      "cell_type": "code",
      "execution_count": null,
      "metadata": {
        "id": "-jDtxFrpiPtO"
      },
      "outputs": [],
      "source": [
        "x_train = np.reshape(x_train, (x_train.shape[0], x_train.shape[1], 1))"
      ]
    },
    {
      "cell_type": "code",
      "execution_count": null,
      "metadata": {
        "id": "zCD6JgaNiWGC"
      },
      "outputs": [],
      "source": [
        "# Build the LSTM model\n",
        "regressor = Sequential()"
      ]
    },
    {
      "cell_type": "code",
      "execution_count": null,
      "metadata": {
        "id": "t_ER3r2XibFm"
      },
      "outputs": [],
      "source": [
        "regressor.add(LSTM(units=50, return_sequences=False, input_shape=(x_train.shape[1], 1)))\n",
        "regressor.add(Dropout(0.1))"
      ]
    },
    {
      "cell_type": "code",
      "execution_count": null,
      "metadata": {
        "id": "jvsroz0aigam"
      },
      "outputs": [],
      "source": [
        "#regressor.add(LSTM(units=50, return_sequences=True))\n",
        "#regressor.add(Dropout(0.1))"
      ]
    },
    {
      "cell_type": "code",
      "execution_count": null,
      "metadata": {
        "id": "TVbe01x-ilGu"
      },
      "outputs": [],
      "source": [
        "#regressor.add(LSTM(units=50, return_sequences=True))\n",
        "#regressor.add(Dropout(0.1))"
      ]
    },
    {
      "cell_type": "code",
      "execution_count": null,
      "metadata": {
        "id": "j94GgKJqQs7W"
      },
      "outputs": [],
      "source": [
        "#regressor.add(LSTM(units=50, return_sequences=True))\n",
        "#regressor.add(Dropout(0.1))"
      ]
    },
    {
      "cell_type": "code",
      "execution_count": null,
      "metadata": {
        "id": "nfkNFUxxQugY"
      },
      "outputs": [],
      "source": [
        "#regressor.add(LSTM(units=50, return_sequences=True))\n",
        "#regressor.add(Dropout(0.1))"
      ]
    },
    {
      "cell_type": "code",
      "execution_count": null,
      "metadata": {
        "id": "OoQoag5piuzu"
      },
      "outputs": [],
      "source": [
        "#regressor.add(LSTM(units=50))\n",
        "#regressor.add(Dropout(0.1))"
      ]
    },
    {
      "cell_type": "code",
      "execution_count": null,
      "metadata": {
        "id": "tYe5SJnPi0Tw"
      },
      "outputs": [],
      "source": [
        "regressor.add(Dense(units=1))"
      ]
    },
    {
      "cell_type": "code",
      "execution_count": null,
      "metadata": {
        "id": "zpRp-dNii8FH"
      },
      "outputs": [],
      "source": [
        "regressor.compile(optimizer='adam', loss='mean_squared_error')"
      ]
    },
    {
      "cell_type": "code",
      "execution_count": null,
      "metadata": {
        "id": "RKHp_ObbG7Oc"
      },
      "outputs": [],
      "source": [
        "#from keras.optimizers import Adam\n",
        "\n",
        "# Create an instance of Adam optimizer with a custom learning rate\n",
        "#custom_optimizer = Adam(learning_rate=0.001)"
      ]
    },
    {
      "cell_type": "code",
      "execution_count": null,
      "metadata": {
        "id": "MhNSMjqxHmo3"
      },
      "outputs": [],
      "source": [
        "# Compile the RNN with the custom optimizer\n",
        "#regressor.compile(optimizer=custom_optimizer, loss='mean_squared_error')"
      ]
    },
    {
      "cell_type": "code",
      "execution_count": null,
      "metadata": {
        "colab": {
          "base_uri": "https://localhost:8080/"
        },
        "id": "iB_240DwjCdd",
        "outputId": "f5c5bf1e-6b06-4ace-c3af-f9c892bf907d"
      },
      "outputs": [
        {
          "output_type": "stream",
          "name": "stdout",
          "text": [
            "Epoch 1/100\n",
            "124/124 [==============================] - 6s 24ms/step - loss: 0.1071\n",
            "Epoch 2/100\n",
            "124/124 [==============================] - 3s 21ms/step - loss: 0.0093\n",
            "Epoch 3/100\n",
            "124/124 [==============================] - 3s 21ms/step - loss: 0.0077\n",
            "Epoch 4/100\n",
            "124/124 [==============================] - 3s 20ms/step - loss: 0.0075\n",
            "Epoch 5/100\n",
            "124/124 [==============================] - 4s 32ms/step - loss: 0.0064\n",
            "Epoch 6/100\n",
            "124/124 [==============================] - 4s 33ms/step - loss: 0.0062\n",
            "Epoch 7/100\n",
            "124/124 [==============================] - 3s 21ms/step - loss: 0.0060\n",
            "Epoch 8/100\n",
            "124/124 [==============================] - 3s 20ms/step - loss: 0.0050\n",
            "Epoch 9/100\n",
            "124/124 [==============================] - 3s 20ms/step - loss: 0.0053\n",
            "Epoch 10/100\n",
            "124/124 [==============================] - 3s 20ms/step - loss: 0.0052\n",
            "Epoch 11/100\n",
            "124/124 [==============================] - 4s 32ms/step - loss: 0.0050\n",
            "Epoch 12/100\n",
            "124/124 [==============================] - 4s 34ms/step - loss: 0.0049\n",
            "Epoch 13/100\n",
            "124/124 [==============================] - 3s 21ms/step - loss: 0.0047\n",
            "Epoch 14/100\n",
            "124/124 [==============================] - 3s 21ms/step - loss: 0.0040\n",
            "Epoch 15/100\n",
            "124/124 [==============================] - 3s 21ms/step - loss: 0.0051\n",
            "Epoch 16/100\n",
            "124/124 [==============================] - 3s 22ms/step - loss: 0.0044\n",
            "Epoch 17/100\n",
            "124/124 [==============================] - 4s 33ms/step - loss: 0.0042\n",
            "Epoch 18/100\n",
            "124/124 [==============================] - 4s 33ms/step - loss: 0.0042\n",
            "Epoch 19/100\n",
            "124/124 [==============================] - 3s 21ms/step - loss: 0.0040\n",
            "Epoch 20/100\n",
            "124/124 [==============================] - 3s 20ms/step - loss: 0.0040\n",
            "Epoch 21/100\n",
            "124/124 [==============================] - 3s 20ms/step - loss: 0.0040\n",
            "Epoch 22/100\n",
            "124/124 [==============================] - 3s 23ms/step - loss: 0.0041\n",
            "Epoch 23/100\n",
            "124/124 [==============================] - 4s 34ms/step - loss: 0.0043\n",
            "Epoch 24/100\n",
            "124/124 [==============================] - 4s 31ms/step - loss: 0.0041\n",
            "Epoch 25/100\n",
            "124/124 [==============================] - 3s 21ms/step - loss: 0.0037\n",
            "Epoch 26/100\n",
            "124/124 [==============================] - 3s 21ms/step - loss: 0.0039\n",
            "Epoch 27/100\n",
            "124/124 [==============================] - 3s 21ms/step - loss: 0.0036\n",
            "Epoch 28/100\n",
            "124/124 [==============================] - 3s 26ms/step - loss: 0.0038\n",
            "Epoch 29/100\n",
            "124/124 [==============================] - 4s 33ms/step - loss: 0.0038\n",
            "Epoch 30/100\n",
            "124/124 [==============================] - 3s 28ms/step - loss: 0.0039\n",
            "Epoch 31/100\n",
            "124/124 [==============================] - 3s 21ms/step - loss: 0.0040\n",
            "Epoch 32/100\n",
            "124/124 [==============================] - 3s 21ms/step - loss: 0.0037\n",
            "Epoch 33/100\n",
            "124/124 [==============================] - 3s 21ms/step - loss: 0.0036\n",
            "Epoch 34/100\n",
            "124/124 [==============================] - 3s 27ms/step - loss: 0.0037\n",
            "Epoch 35/100\n",
            "124/124 [==============================] - 4s 34ms/step - loss: 0.0036\n",
            "Epoch 36/100\n",
            "124/124 [==============================] - 3s 26ms/step - loss: 0.0036\n",
            "Epoch 37/100\n",
            "124/124 [==============================] - 3s 20ms/step - loss: 0.0036\n",
            "Epoch 38/100\n",
            "124/124 [==============================] - 3s 20ms/step - loss: 0.0037\n",
            "Epoch 39/100\n",
            "124/124 [==============================] - 3s 20ms/step - loss: 0.0036\n",
            "Epoch 40/100\n",
            "124/124 [==============================] - 4s 29ms/step - loss: 0.0035\n",
            "Epoch 41/100\n",
            "124/124 [==============================] - 4s 33ms/step - loss: 0.0039\n",
            "Epoch 42/100\n",
            "124/124 [==============================] - 3s 24ms/step - loss: 0.0038\n",
            "Epoch 43/100\n",
            "124/124 [==============================] - 2s 20ms/step - loss: 0.0034\n",
            "Epoch 44/100\n",
            "124/124 [==============================] - 3s 21ms/step - loss: 0.0036\n",
            "Epoch 45/100\n",
            "124/124 [==============================] - 3s 20ms/step - loss: 0.0034\n",
            "Epoch 46/100\n",
            "124/124 [==============================] - 4s 29ms/step - loss: 0.0036\n",
            "Epoch 47/100\n",
            "124/124 [==============================] - 4s 33ms/step - loss: 0.0035\n",
            "Epoch 48/100\n",
            "124/124 [==============================] - 3s 23ms/step - loss: 0.0034\n",
            "Epoch 49/100\n",
            "124/124 [==============================] - 3s 20ms/step - loss: 0.0035\n",
            "Epoch 50/100\n",
            "124/124 [==============================] - 3s 20ms/step - loss: 0.0033\n",
            "Epoch 51/100\n",
            "124/124 [==============================] - 3s 21ms/step - loss: 0.0035\n",
            "Epoch 52/100\n",
            "124/124 [==============================] - 4s 31ms/step - loss: 0.0033\n",
            "Epoch 53/100\n",
            "124/124 [==============================] - 4s 33ms/step - loss: 0.0034\n",
            "Epoch 54/100\n",
            "124/124 [==============================] - 3s 22ms/step - loss: 0.0033\n",
            "Epoch 55/100\n",
            "124/124 [==============================] - 3s 21ms/step - loss: 0.0036\n",
            "Epoch 56/100\n",
            "124/124 [==============================] - 3s 21ms/step - loss: 0.0032\n",
            "Epoch 57/100\n",
            "124/124 [==============================] - 3s 20ms/step - loss: 0.0031\n",
            "Epoch 58/100\n",
            "124/124 [==============================] - 4s 32ms/step - loss: 0.0033\n",
            "Epoch 59/100\n",
            "124/124 [==============================] - 4s 33ms/step - loss: 0.0032\n",
            "Epoch 60/100\n",
            "124/124 [==============================] - 3s 20ms/step - loss: 0.0033\n",
            "Epoch 61/100\n",
            "124/124 [==============================] - 3s 21ms/step - loss: 0.0034\n",
            "Epoch 62/100\n",
            "124/124 [==============================] - 3s 21ms/step - loss: 0.0032\n",
            "Epoch 63/100\n",
            "124/124 [==============================] - 3s 22ms/step - loss: 0.0034\n",
            "Epoch 64/100\n",
            "124/124 [==============================] - 4s 32ms/step - loss: 0.0034\n",
            "Epoch 65/100\n",
            "124/124 [==============================] - 4s 31ms/step - loss: 0.0032\n",
            "Epoch 66/100\n",
            "124/124 [==============================] - 3s 21ms/step - loss: 0.0035\n",
            "Epoch 67/100\n",
            "124/124 [==============================] - 3s 20ms/step - loss: 0.0031\n",
            "Epoch 68/100\n",
            "124/124 [==============================] - 3s 20ms/step - loss: 0.0030\n",
            "Epoch 69/100\n",
            "124/124 [==============================] - 3s 22ms/step - loss: 0.0032\n",
            "Epoch 70/100\n",
            "124/124 [==============================] - 4s 33ms/step - loss: 0.0033\n",
            "Epoch 71/100\n",
            "124/124 [==============================] - 4s 31ms/step - loss: 0.0033\n",
            "Epoch 72/100\n",
            "124/124 [==============================] - 3s 21ms/step - loss: 0.0033\n",
            "Epoch 73/100\n",
            "124/124 [==============================] - 3s 21ms/step - loss: 0.0031\n",
            "Epoch 74/100\n",
            "124/124 [==============================] - 3s 21ms/step - loss: 0.0033\n",
            "Epoch 75/100\n",
            "124/124 [==============================] - 3s 24ms/step - loss: 0.0032\n",
            "Epoch 76/100\n",
            "124/124 [==============================] - 4s 33ms/step - loss: 0.0035\n",
            "Epoch 77/100\n",
            "124/124 [==============================] - 4s 30ms/step - loss: 0.0034\n",
            "Epoch 78/100\n",
            "124/124 [==============================] - 3s 21ms/step - loss: 0.0035\n",
            "Epoch 79/100\n",
            "124/124 [==============================] - 3s 20ms/step - loss: 0.0033\n",
            "Epoch 80/100\n",
            "124/124 [==============================] - 3s 20ms/step - loss: 0.0032\n",
            "Epoch 81/100\n",
            "124/124 [==============================] - 3s 26ms/step - loss: 0.0033\n",
            "Epoch 82/100\n",
            "124/124 [==============================] - 4s 33ms/step - loss: 0.0034\n",
            "Epoch 83/100\n",
            "124/124 [==============================] - 3s 28ms/step - loss: 0.0035\n",
            "Epoch 84/100\n",
            "124/124 [==============================] - 3s 21ms/step - loss: 0.0032\n",
            "Epoch 85/100\n",
            "124/124 [==============================] - 3s 20ms/step - loss: 0.0031\n",
            "Epoch 86/100\n",
            "124/124 [==============================] - 3s 20ms/step - loss: 0.0029\n",
            "Epoch 87/100\n",
            "124/124 [==============================] - 3s 28ms/step - loss: 0.0035\n",
            "Epoch 88/100\n",
            "124/124 [==============================] - 4s 33ms/step - loss: 0.0029\n",
            "Epoch 89/100\n",
            "124/124 [==============================] - 3s 26ms/step - loss: 0.0032\n",
            "Epoch 90/100\n",
            "124/124 [==============================] - 3s 21ms/step - loss: 0.0033\n",
            "Epoch 91/100\n",
            "124/124 [==============================] - 3s 21ms/step - loss: 0.0033\n",
            "Epoch 92/100\n",
            "124/124 [==============================] - 3s 21ms/step - loss: 0.0032\n",
            "Epoch 93/100\n",
            "124/124 [==============================] - 4s 29ms/step - loss: 0.0033\n",
            "Epoch 94/100\n",
            "124/124 [==============================] - 4s 33ms/step - loss: 0.0032\n",
            "Epoch 95/100\n",
            "124/124 [==============================] - 3s 24ms/step - loss: 0.0031\n",
            "Epoch 96/100\n",
            "124/124 [==============================] - 3s 21ms/step - loss: 0.0032\n",
            "Epoch 97/100\n",
            "124/124 [==============================] - 3s 20ms/step - loss: 0.0031\n",
            "Epoch 98/100\n",
            "124/124 [==============================] - 3s 20ms/step - loss: 0.0030\n",
            "Epoch 99/100\n",
            "124/124 [==============================] - 4s 30ms/step - loss: 0.0032\n",
            "Epoch 100/100\n",
            "124/124 [==============================] - 4s 32ms/step - loss: 0.0031\n"
          ]
        },
        {
          "output_type": "execute_result",
          "data": {
            "text/plain": [
              "<keras.src.callbacks.History at 0x7e54d8488700>"
            ]
          },
          "metadata": {},
          "execution_count": 13
        }
      ],
      "source": [
        "regressor.fit(x_train, y_train, epochs=100, batch_size=32)"
      ]
    },
    {
      "cell_type": "code",
      "execution_count": null,
      "metadata": {
        "id": "_Pfgsbo-jHRD"
      },
      "outputs": [],
      "source": [
        "# Load and preprocess test data\n",
        "dataset_test = pd.read_csv('/content/drive/MyDrive/DataSet/google_stock_dataset_test.csv')\n",
        "original_stock_price = dataset_test.iloc[:, 1:2].values\n",
        "dataset_total = pd.concat((dataset_train['Open'], dataset_test['Open']), axis=0)\n",
        "inputs = dataset_total[len(dataset_total) - len(dataset_test)- 60:].values\n",
        "inputs = inputs.reshape(-1, 1)\n",
        "inputs = sc.transform(inputs)\n",
        "x_test = []\n",
        "for i in range(60, 79):\n",
        "    x_test.append(inputs[i - 60:i, 0])\n",
        "\n",
        "x_test = np.array(x_test)\n",
        "x_test = np.reshape(x_test, (x_test.shape[0], x_test.shape[1], 1))"
      ]
    },
    {
      "cell_type": "code",
      "execution_count": null,
      "metadata": {
        "id": "ZE83amLcjSzA"
      },
      "outputs": [],
      "source": [
        "# Predict stock prices\n",
        "predicted_stock_price = regressor.predict(x_test)\n",
        "predicted_stock_price = sc.inverse_transform(predicted_stock_price)"
      ]
    },
    {
      "cell_type": "code",
      "execution_count": null,
      "metadata": {
        "colab": {
          "base_uri": "https://localhost:8080/",
          "height": 472
        },
        "id": "HeUZkAHdjW_o",
        "outputId": "8c215f55-111b-4f08-e032-dc4ae10c3be2"
      },
      "outputs": [
        {
          "output_type": "display_data",
          "data": {
            "text/plain": [
              "<Figure size 640x480 with 1 Axes>"
            ],
            "image/png": "[encoded data removed]"
          },
          "metadata": {}
        }
      ],
      "source": [
        "# Visualize the results\n",
        "plt.plot(predicted_stock_price, color='blue', label='Predicted Stock Price')\n",
        "plt.title('Stock Price Prediction')\n",
        "plt.xlabel('Time')\n",
        "plt.ylabel('Stock Price')\n",
        "plt.legend()\n",
        "plt.show()"
      ]
    },
    {
      "cell_type": "code",
      "execution_count": null,
      "metadata": {
        "colab": {
          "base_uri": "https://localhost:8080/",
          "height": 472
        },
        "id": "v8Mb2GztkoNP",
        "outputId": "7627e976-1075-476b-9967-6fc9fae52493"
      },
      "outputs": [
        {
          "data": {
            "image/png": "[encoded data removed]",
            "text/plain": [
              "<Figure size 640x480 with 1 Axes>"
            ]
          },
          "metadata": {},
          "output_type": "display_data"
        }
      ],
      "source": [
        "plt.plot(original_stock_price, color='green', label='Original Stock Price')\n",
        "plt.title('Stock Price Prediction')\n",
        "plt.xlabel('Time')\n",
        "plt.ylabel('Stock Price')\n",
        "plt.legend()\n",
        "plt.show()"
      ]
    }
  ],
  "metadata": {
    "colab": {
      "provenance": [],
      "mount_file_id": "1EkeZn1uvUl7AWI_N9WaBbmxXcZmZ0Bgv",
      "authorship_tag": "ABX9TyNUpx6ihEzLHcHUGPpZeRAt",
      "include_colab_link": true
    },
    "kernelspec": {
      "display_name": "Python 3",
      "name": "python3"
    },
    "language_info": {
      "name": "python"
    }
  },
  "nbformat": 4,
  "nbformat_minor": 0
}