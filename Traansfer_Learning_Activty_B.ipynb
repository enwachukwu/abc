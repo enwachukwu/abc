{
  "nbformat": 4,
  "nbformat_minor": 0,
  "metadata": {
    "colab": {
      "provenance": [],
      "gpuType": "T4",
      "mount_file_id": "1LSMFFJPqDVo0kQ29KmETC0cyROHJpPHM",
      "authorship_tag": "ABX9TyM97Lz+XGhg+fFsA3pRcbVD",
      "include_colab_link": true
    },
    "kernelspec": {
      "name": "python3",
      "display_name": "Python 3"
    },
    "language_info": {
      "name": "python"
    },
    "accelerator": "GPU"
  },
  "cells": [
    {
      "cell_type": "markdown",
      "metadata": {
        "id": "view-in-github",
        "colab_type": "text"
      },
      "source": [
        "<a href=\"https://colab.research.google.com/github/enwachukwu/abc/blob/main/Traansfer_Learning_Activty_B.ipynb\" target=\"_parent\"><img src=\"https://colab.research.google.com/assets/colab-badge.svg\" alt=\"Open In Colab\"/></a>"
      ]
    },
    {
      "cell_type": "code",
      "execution_count": null,
      "metadata": {
        "id": "Xgf8ruzumAuI"
      },
      "outputs": [],
      "source": [
        "from google.colab import drive\n",
        "drive.mount('/content/drive')"
      ]
    },
    {
      "cell_type": "code",
      "source": [
        "from __future__ import print_function\n",
        "import tensorflow as tf\n",
        "from tensorflow.keras.models import Sequential,Model\n",
        "from tensorflow.keras.applications import VGG16\n",
        "from tensorflow.keras.layers import Dense, Dropout, Activation, Flatten, BatchNormalization\n",
        "from tensorflow.keras.layers import Conv2D, MaxPooling2D\n",
        "from tensorflow.keras.layers import ELU\n",
        "from tensorflow.keras.preprocessing.image import ImageDataGenerator\n",
        "import os\n",
        "from tensorflow import keras\n",
        "import matplotlib.pyplot as plt\n",
        "from tensorflow.keras.optimizers import Adam"
      ],
      "metadata": {
        "id": "7xVJtyyVmXre"
      },
      "execution_count": null,
      "outputs": []
    },
    {
      "cell_type": "code",
      "source": [
        "image_size = (256,256)\n",
        "batch_size = 16\n",
        "EPOCHS = 2\n",
        "num_classes = 3\n",
        "\n",
        "train_data_dir = '//content/drive/MyDrive/COVID-19_Radiography_Dataset/train'\n",
        "test_data_dir = '//content/drive/MyDrive/COVID-19_Radiography_Dataset/test'"
      ],
      "metadata": {
        "id": "OoBci4SzmcuG"
      },
      "execution_count": null,
      "outputs": []
    },
    {
      "cell_type": "code",
      "source": [
        "# Create an instance of the ImageDataGenerator class with various transformations parameters.\n",
        "datagen = ImageDataGenerator(\n",
        "    horizontal_flip=True,\n",
        "    vertical_flip=True,\n",
        "    rotation_range=40,\n",
        "    height_shift_range=0.1,\n",
        "    zoom_range=.1,\n",
        "    rescale=1/255,\n",
        "    fill_mode='nearest',\n",
        "    shear_range=0.1,\n",
        "    brightness_range=[0.5, 1.5],\n",
        "    validation_split=0.2\n",
        ")"
      ],
      "metadata": {
        "id": "aVZ5bCoenEVJ"
      },
      "execution_count": null,
      "outputs": []
    },
    {
      "cell_type": "code",
      "source": [
        "\n",
        "train_generator = datagen.flow_from_directory(\n",
        "    train_data_dir,\n",
        "    target_size=image_size,\n",
        "    batch_size=batch_size,\n",
        "    class_mode='categorical',\n",
        "    subset='training'\n",
        ")\n",
        "\n",
        "validation_generator = datagen.flow_from_directory(\n",
        "    train_data_dir,\n",
        "    target_size=image_size,\n",
        "    batch_size=batch_size,\n",
        "    class_mode='categorical',\n",
        "    subset='validation',\n",
        "    shuffle=False\n",
        ")\n",
        "\n",
        "test_datagen = ImageDataGenerator(rescale=1./255)\n",
        "\n",
        "test_generator = test_datagen.flow_from_directory(\n",
        "    test_data_dir,\n",
        "    target_size=image_size,\n",
        "    batch_size=batch_size,\n",
        "    class_mode='categorical',\n",
        "    shuffle=False\n",
        ")\n"
      ],
      "metadata": {
        "id": "s4-7lTGGoPBc",
        "colab": {
          "base_uri": "https://localhost:8080/"
        },
        "outputId": "11d06e42-2b9b-4d52-c9a6-79ca93d8593c"
      },
      "execution_count": null,
      "outputs": [
        {
          "output_type": "stream",
          "name": "stdout",
          "text": [
            "Found 694 images belonging to 3 classes.\n",
            "Found 172 images belonging to 3 classes.\n",
            "Found 288 images belonging to 3 classes.\n"
          ]
        }
      ]
    },
    {
      "cell_type": "code",
      "source": [
        "!pip install -U efficientnet"
      ],
      "metadata": {
        "colab": {
          "base_uri": "https://localhost:8080/"
        },
        "id": "-NQwBjcK7lyB",
        "outputId": "edd89cee-708e-4701-a4d3-b32d4c177d12"
      },
      "execution_count": null,
      "outputs": [
        {
          "output_type": "stream",
          "name": "stdout",
          "text": [
            "Requirement already satisfied: efficientnet in /usr/local/lib/python3.10/dist-packages (1.1.1)\n",
            "Requirement already satisfied: keras-applications<=1.0.8,>=1.0.7 in /usr/local/lib/python3.10/dist-packages (from efficientnet) (1.0.8)\n",
            "Requirement already satisfied: scikit-image in /usr/local/lib/python3.10/dist-packages (from efficientnet) (0.19.3)\n",
            "Requirement already satisfied: numpy>=1.9.1 in /usr/local/lib/python3.10/dist-packages (from keras-applications<=1.0.8,>=1.0.7->efficientnet) (1.23.5)\n",
            "Requirement already satisfied: h5py in /usr/local/lib/python3.10/dist-packages (from keras-applications<=1.0.8,>=1.0.7->efficientnet) (3.9.0)\n",
            "Requirement already satisfied: scipy>=1.4.1 in /usr/local/lib/python3.10/dist-packages (from scikit-image->efficientnet) (1.11.3)\n",
            "Requirement already satisfied: networkx>=2.2 in /usr/local/lib/python3.10/dist-packages (from scikit-image->efficientnet) (3.2.1)\n",
            "Requirement already satisfied: pillow!=7.1.0,!=7.1.1,!=8.3.0,>=6.1.0 in /usr/local/lib/python3.10/dist-packages (from scikit-image->efficientnet) (9.4.0)\n",
            "Requirement already satisfied: imageio>=2.4.1 in /usr/local/lib/python3.10/dist-packages (from scikit-image->efficientnet) (2.31.6)\n",
            "Requirement already satisfied: tifffile>=2019.7.26 in /usr/local/lib/python3.10/dist-packages (from scikit-image->efficientnet) (2023.9.26)\n",
            "Requirement already satisfied: PyWavelets>=1.1.1 in /usr/local/lib/python3.10/dist-packages (from scikit-image->efficientnet) (1.4.1)\n",
            "Requirement already satisfied: packaging>=20.0 in /usr/local/lib/python3.10/dist-packages (from scikit-image->efficientnet) (23.2)\n"
          ]
        }
      ]
    },
    {
      "cell_type": "code",
      "source": [
        "import efficientnet.keras as efn\n",
        "# loading B4 without the final layer, we will change it\n",
        "pretrained_model = efn.EfficientNetB4(include_top=False, input_shape=(224,224,3), pooling='avg', weights='imagenet')\n",
        "\n",
        "x = pretrained_model.output\n",
        "x = Flatten()(x)\n",
        "\n",
        "predictions = Dense(3, activation=\"softmax\")(x)\n",
        "model = Model(inputs=pretrained_model.input, outputs=predictions )"
      ],
      "metadata": {
        "id": "UTLCJj2I7xyk"
      },
      "execution_count": null,
      "outputs": []
    },
    {
      "cell_type": "code",
      "source": [
        "print(model.summary())"
      ],
      "metadata": {
        "id": "SAu-8OqS8AFi"
      },
      "execution_count": null,
      "outputs": []
    },
    {
      "cell_type": "code",
      "source": [
        "\n",
        "def custom_loss(y_true, y_pred):\n",
        "    return tf.keras.losses.categorical_crossentropy(y_true, y_pred, label_smoothing=0.1)\n",
        "\n",
        "model.compile(optimizer=Adam(0.0001), loss=custom_loss, metrics=['accuracy'])\n",
        "\n",
        "STEP_SIZE_TRAIN = train_generator.n // train_generator.batch_size\n",
        "STEP_SIZE_VALID = validation_generator.n // validation_generator.batch_size\n",
        "\n",
        "\n",
        "reduce_lr = tf.keras.callbacks.ReduceLROnPlateau(monitor = 'val_accuracy',\n",
        "                                                 factor = 0.2,\n",
        "                                                 patience = 2,\n",
        "                                                 verbose = 1,\n",
        "                                                 min_delta = 1e-4,\n",
        "                                                 min_lr = 1e-6,\n",
        "                                                 mode = 'max')\n",
        "\n",
        "earlystopping = tf.keras.callbacks.EarlyStopping(monitor = 'val_accuracy',\n",
        "                                                 min_delta = 1e-4,\n",
        "                                                 patience = 20,\n",
        "                                                 mode = 'max',\n",
        "                                                 restore_best_weights = True,\n",
        "                                                 verbose = 1)\n",
        "\n",
        "checkpointer = tf.keras.callbacks.ModelCheckpoint(filepath = 'model',\n",
        "                                                  monitor = 'val_accuracy',\n",
        "                                                  verbose = 1,\n",
        "                                                  save_best_only = True,\n",
        "                                                  save_weights_only = False,\n",
        "                                                  mode = 'max')\n",
        "\n",
        "# Group the callbacks into a list that can be passed to the model training function.\n",
        "callbacks = [earlystopping, reduce_lr, checkpointer]\n"
      ],
      "metadata": {
        "id": "TPcQuJWL8KQ4"
      },
      "execution_count": null,
      "outputs": []
    },
    {
      "cell_type": "code",
      "source": [
        "history=model.fit(train_generator,\n",
        "          steps_per_epoch = STEP_SIZE_TRAIN,\n",
        "          validation_data = validation_generator,\n",
        "          validation_steps = STEP_SIZE_VALID,\n",
        "          epochs = EPOCHS,\n",
        "          callbacks = callbacks)"
      ],
      "metadata": {
        "id": "jluHmkRq8fLn",
        "colab": {
          "base_uri": "https://localhost:8080/"
        },
        "outputId": "b44e1a0a-af3a-4e9d-8f1f-0b82cec44a83"
      },
      "execution_count": null,
      "outputs": [
        {
          "output_type": "stream",
          "name": "stdout",
          "text": [
            "Epoch 1/2\n",
            "43/43 [==============================] - ETA: 0s - loss: 0.7269 - accuracy: 0.7684\n",
            "Epoch 1: val_accuracy improved from -inf to 0.59375, saving model to model\n",
            "43/43 [==============================] - 335s 6s/step - loss: 0.7269 - accuracy: 0.7684 - val_loss: 0.8672 - val_accuracy: 0.5938 - lr: 1.0000e-04\n",
            "Epoch 2/2\n",
            "43/43 [==============================] - ETA: 0s - loss: 0.4834 - accuracy: 0.8938\n",
            "Epoch 2: val_accuracy improved from 0.59375 to 0.75625, saving model to model\n",
            "43/43 [==============================] - 87s 2s/step - loss: 0.4834 - accuracy: 0.8938 - val_loss: 0.7236 - val_accuracy: 0.7563 - lr: 1.0000e-04\n"
          ]
        }
      ]
    },
    {
      "cell_type": "code",
      "source": [
        "# Load the model from the directory it was saved to\n",
        "model = keras.models.load_model('model', custom_objects={'custom_loss': custom_loss})"
      ],
      "metadata": {
        "id": "Dkkp8WsS8g3a"
      },
      "execution_count": null,
      "outputs": []
    },
    {
      "cell_type": "code",
      "source": [
        "import pandas as pd\n",
        "\n",
        "pd.DataFrame(history.history).plot(figsize=(15,8))\n",
        "plt.grid(True)\n",
        "plt.gca()\n",
        "plt.show()"
      ],
      "metadata": {
        "id": "5JP5hDq48mrq",
        "colab": {
          "base_uri": "https://localhost:8080/",
          "height": 676
        },
        "outputId": "48bbe084-6569-4455-8ca0-f6836cfefcfe"
      },
      "execution_count": null,
      "outputs": [
        {
          "output_type": "display_data",
          "data": {
            "text/plain": [
              "<Figure size 1500x800 with 1 Axes>"
            ],
            "image/png": "[encoded data removed]"
          },
          "metadata": {}
        }
      ]
    },
    {
      "cell_type": "code",
      "source": [
        "class_names = [\"COVID\", \"Normanl\", \"Viral Pneumonia\"]"
      ],
      "metadata": {
        "id": "O16VMM4nBTq8"
      },
      "execution_count": null,
      "outputs": []
    },
    {
      "cell_type": "code",
      "source": [
        "import matplotlib.pyplot as plt\n",
        "import sklearn\n",
        "from sklearn.metrics import classification_report, confusion_matrix, accuracy_score\n",
        "import numpy as np\n",
        "\n",
        "\n",
        "class_labels = test_generator.class_indices\n",
        "class_labels = {v: k for k, v in class_labels.items()}\n",
        "classes = list(class_labels.values())\n",
        "\n",
        "#Confusion Matrix and Classification Report\n",
        "y_pred=model.predict(test_generator,steps=test_generator.n/batch_size,verbose=1)\n",
        "y_pred = np.argmax(y_pred, axis=1)\n",
        "y_true = test_generator.classes\n",
        "\n",
        "print('Confusion Matrix')\n",
        "print(confusion_matrix(y_true, y_pred))\n",
        "\n",
        "\n",
        "print('Classification Report')\n",
        "target_names = list(class_labels.values())\n",
        "print(classification_report(y_true, y_pred, target_names=class_names))\n",
        "\n",
        "plt.figure(figsize=(8,8))\n",
        "cnf_matrix = confusion_matrix(test_generator.classes, y_pred)"
      ],
      "metadata": {
        "id": "lCxp1Uau93ab",
        "colab": {
          "base_uri": "https://localhost:8080/",
          "height": 312
        },
        "outputId": "da57ad8a-bddc-4356-ca3b-c520851c4ffb"
      },
      "execution_count": null,
      "outputs": [
        {
          "output_type": "stream",
          "name": "stdout",
          "text": [
            "18/18 [==============================] - 2s 94ms/step\n",
            "Confusion Matrix\n",
            "[[38 19 33]\n",
            " [ 6 74 20]\n",
            " [ 0  0 98]]\n",
            "Classification Report\n",
            "                 precision    recall  f1-score   support\n",
            "\n",
            "          COVID       0.86      0.42      0.57        90\n",
            "        Normanl       0.80      0.74      0.77       100\n",
            "Viral Pneumonia       0.65      1.00      0.79        98\n",
            "\n",
            "       accuracy                           0.73       288\n",
            "      macro avg       0.77      0.72      0.71       288\n",
            "   weighted avg       0.77      0.73      0.71       288\n",
            "\n"
          ]
        },
        {
          "output_type": "display_data",
          "data": {
            "text/plain": [
              "<Figure size 800x800 with 0 Axes>"
            ]
          },
          "metadata": {}
        }
      ]
    },
    {
      "cell_type": "code",
      "source": [
        "import seaborn as sb\n",
        "\n",
        "# ax = plt.figure(figsize=(8, 6))\n",
        "fig = sb.heatmap(cnf_matrix, annot=True, fmt='g', cmap='Greens')  #annot=True to annotate cells, ftm='g' to disable scientific notation\n",
        "\n",
        "# labels, title and ticks\n",
        "fig.set_xlabel('Predicted labels')\n",
        "fig.set_ylabel('True labels')\n",
        "fig.set_title('Confusion Matrix')\n",
        "fig.xaxis.set_ticklabels(class_names)\n",
        "fig.yaxis.set_ticklabels(class_names)\n",
        "fig.figure.set_size_inches(10, 10)\n",
        "\n",
        "\n",
        "plt.show()"
      ],
      "metadata": {
        "id": "VzJ6fEeC95LO",
        "colab": {
          "base_uri": "https://localhost:8080/",
          "height": 872
        },
        "outputId": "44ab1d41-44c3-4e71-8b55-170cd9582fa1"
      },
      "execution_count": null,
      "outputs": [
        {
          "output_type": "display_data",
          "data": {
            "text/plain": [
              "<Figure size 1000x1000 with 2 Axes>"
            ],
            "image/png": "[encoded data removed]"
          },
          "metadata": {}
        }
      ]
    },
    {
      "cell_type": "code",
      "source": [
        "from sklearn.metrics import accuracy_score\n",
        "# Calculate the accuracy\n",
        "accuracy = accuracy_score(y_true, y_pred)\n",
        "print(\"\\nAccuracy: {:.4f}\".format(accuracy))"
      ],
      "metadata": {
        "id": "xpjwPJtX-BRR",
        "colab": {
          "base_uri": "https://localhost:8080/"
        },
        "outputId": "bf03f808-adf8-492e-ebb5-9130c45b6e5c"
      },
      "execution_count": null,
      "outputs": [
        {
          "output_type": "stream",
          "name": "stdout",
          "text": [
            "\n",
            "Accuracy: 0.7292\n"
          ]
        }
      ]
    },
    {
      "cell_type": "code",
      "source": [
        "from sklearn.metrics import classification_report\n",
        "\n",
        "# Assuming y_test holds the true labels and y_classes holds the predicted labels\n",
        "# Calculate classification report\n",
        "report_dict = classification_report(y_true, y_pred, output_dict=True)\n",
        "\n",
        "# Now, you can access the average values\n",
        "macro_precision = report_dict['macro avg']['precision']\n",
        "macro_recall = report_dict['macro avg']['recall']\n",
        "macro_f1 = report_dict['macro avg']['f1-score']\n",
        "\n",
        "weighted_precision = report_dict['weighted avg']['precision']\n",
        "weighted_recall = report_dict['weighted avg']['recall']\n",
        "weighted_f1 = report_dict['weighted avg']['f1-score']\n",
        "\n",
        "\n",
        "# Print out the averages\n",
        "print(f\"Macro Average Precision: {macro_precision:.4f}\")\n",
        "print(f\"Macro Average Recall: {macro_recall:.4f}\")\n",
        "print(f\"Macro Average F1-score: {macro_f1:.4f}\\n\")\n",
        "\n",
        "print(f\"Weighted Average Precision: {weighted_precision:.4f}\")\n",
        "print(f\"Weighted Average Recall: {weighted_recall:.4f}\")\n",
        "print(f\"Weighted Average F1-score: {weighted_f1:.4f}\\n\")"
      ],
      "metadata": {
        "id": "bredYzS_-F-6",
        "colab": {
          "base_uri": "https://localhost:8080/"
        },
        "outputId": "486c1eab-165d-4fbb-859f-52d065cbd1ba"
      },
      "execution_count": null,
      "outputs": [
        {
          "output_type": "stream",
          "name": "stdout",
          "text": [
            "Macro Average Precision: 0.7694\n",
            "Macro Average Recall: 0.7207\n",
            "Macro Average F1-score: 0.7071\n",
            "\n",
            "Weighted Average Precision: 0.7670\n",
            "Weighted Average Recall: 0.7292\n",
            "Weighted Average F1-score: 0.7114\n",
            "\n"
          ]
        }
      ]
    }
  ]
}