{
  "cells": [
    {
      "cell_type": "markdown",
      "metadata": {
        "id": "view-in-github",
        "colab_type": "text"
      },
      "source": [
        "<a href=\"https://colab.research.google.com/github/enwachukwu/abc/blob/main/NFLX_stock_price_predictio.ipynb\" target=\"_parent\"><img src=\"https://colab.research.google.com/assets/colab-badge.svg\" alt=\"Open In Colab\"/></a>"
      ]
    },
    {
      "cell_type": "markdown",
      "source": [],
      "metadata": {
        "id": "b2r42-CXkcMB"
      }
    },
    {
      "cell_type": "code",
      "execution_count": null,
      "metadata": {
        "id": "FvgH1KL42tAe"
      },
      "outputs": [],
      "source": [
        "import numpy as np\n",
        "import matplotlib.pyplot as plt\n",
        "import pandas as pd"
      ]
    },
    {
      "cell_type": "markdown",
      "source": [],
      "metadata": {
        "id": "jggmf8tCkoTd"
      }
    },
    {
      "cell_type": "markdown",
      "source": [],
      "metadata": {
        "id": "SVJ54TiLkoPu"
      }
    },
    {
      "cell_type": "markdown",
      "metadata": {
        "id": "WR6JlSdKR8b2"
      },
      "source": [
        "#load dataset"
      ]
    },
    {
      "cell_type": "code",
      "execution_count": null,
      "metadata": {
        "id": "TaCck19Z6N7y"
      },
      "outputs": [],
      "source": [
        "dataset_train =pd.read_csv('/content/drive/MyDrive/DataSet/nflx_stock_dataset_train.csv')\n"
      ]
    },
    {
      "cell_type": "code",
      "execution_count": null,
      "metadata": {
        "id": "eEsEjQaoDstW"
      },
      "outputs": [],
      "source": [
        "dataset_train"
      ]
    },
    {
      "cell_type": "code",
      "source": [
        "dataset_train.shape"
      ],
      "metadata": {
        "id": "yMHjKyJNCSUx"
      },
      "execution_count": null,
      "outputs": []
    },
    {
      "cell_type": "code",
      "source": [
        "dataset_train.columns"
      ],
      "metadata": {
        "id": "fAhqs1_2CpEt"
      },
      "execution_count": null,
      "outputs": []
    },
    {
      "cell_type": "code",
      "source": [
        "dataset_train.dtypes"
      ],
      "metadata": {
        "id": "z2Gu14lKDHrd"
      },
      "execution_count": null,
      "outputs": []
    },
    {
      "cell_type": "code",
      "source": [
        "dataset_train.describe()"
      ],
      "metadata": {
        "id": "jTYR3XQ-DPo_"
      },
      "execution_count": null,
      "outputs": []
    },
    {
      "cell_type": "code",
      "source": [
        "dataset_train.isna()"
      ],
      "metadata": {
        "id": "DHy7HKzJDXSf"
      },
      "execution_count": null,
      "outputs": []
    },
    {
      "cell_type": "code",
      "source": [
        "dataset_train.isna().sum()"
      ],
      "metadata": {
        "id": "Ir8Ue0r8DtDU"
      },
      "execution_count": null,
      "outputs": []
    },
    {
      "cell_type": "code",
      "source": [
        "dataset_train.duplicated()"
      ],
      "metadata": {
        "id": "CjrIiwB_EF64"
      },
      "execution_count": null,
      "outputs": []
    },
    {
      "cell_type": "code",
      "source": [
        "import matplotlib.pyplot as plt\n",
        "plt.figure(figsize=(12, 6))\n",
        "plt.plot(dataset_train['Date'], dataset_train['Open'])\n",
        "plt.xlabel('Date')\n",
        "plt.ylabel('Open Price')\n",
        "plt.title('Open Price Over Time')\n",
        "plt.show"
      ],
      "metadata": {
        "id": "vDBMTSvaEihp"
      },
      "execution_count": null,
      "outputs": []
    },
    {
      "cell_type": "markdown",
      "metadata": {
        "id": "otTa37cQXu2L"
      },
      "source": [
        "# The training dataset"
      ]
    },
    {
      "cell_type": "code",
      "execution_count": null,
      "metadata": {
        "id": "A3ACKbW5OKBf"
      },
      "outputs": [],
      "source": [
        "training_set = dataset_train.iloc[:, 1:2].values"
      ]
    },
    {
      "cell_type": "code",
      "execution_count": null,
      "metadata": {
        "id": "JtTBd4qQn7W5"
      },
      "outputs": [],
      "source": [
        "training_set"
      ]
    },
    {
      "cell_type": "markdown",
      "metadata": {
        "id": "B1AshlWtRwwX"
      },
      "source": [
        "#feature scaling"
      ]
    },
    {
      "cell_type": "code",
      "execution_count": null,
      "metadata": {
        "id": "lYx4dtEmQZeI"
      },
      "outputs": [],
      "source": [
        "from sklearn.preprocessing import MinMaxScaler\n",
        "sc = MinMaxScaler(feature_range=(0,1))\n",
        "#from sklearn.preprocessing import StandardScaler\n",
        "#sc = StandardScaler()\n",
        "training_set_scaled = sc.fit_transform(training_set)"
      ]
    },
    {
      "cell_type": "markdown",
      "metadata": {
        "id": "ye669LhxYD3c"
      },
      "source": [
        "# data structure with timesteps and output"
      ]
    },
    {
      "cell_type": "code",
      "execution_count": null,
      "metadata": {
        "id": "u7Et9etHRFO4"
      },
      "outputs": [],
      "source": [
        "x_train = []\n",
        "y_train = []\n",
        "for i in range(60,985):\n",
        "  x_train.append(training_set_scaled[i-60:i, 0])\n",
        "  y_train.append(training_set_scaled[i, 0])\n",
        "x_train, y_train = np.array(x_train), np.array(y_train)\n"
      ]
    },
    {
      "cell_type": "code",
      "execution_count": null,
      "metadata": {
        "id": "WgA-YK33ldab"
      },
      "outputs": [],
      "source": [
        "print(x_train)\n"
      ]
    },
    {
      "cell_type": "code",
      "execution_count": null,
      "metadata": {
        "id": "2gxaIZACvmYO"
      },
      "outputs": [],
      "source": [
        "print(y_train)"
      ]
    },
    {
      "cell_type": "code",
      "execution_count": null,
      "metadata": {
        "id": "Hp7vqCa7yIyg"
      },
      "outputs": [],
      "source": [
        "# Reshaping with reshape function which can be used to add more column\n",
        "x_train = np.reshape(x_train, (x_train.shape[0], x_train.shape[1], 1))\n"
      ]
    },
    {
      "cell_type": "code",
      "source": [
        "print(x_train)"
      ],
      "metadata": {
        "id": "tUvsEUbzsCmH"
      },
      "execution_count": null,
      "outputs": []
    },
    {
      "cell_type": "markdown",
      "metadata": {
        "id": "WoLSM5h557WR"
      },
      "source": [
        "# Importing the libraries and pakages for building the RNN"
      ]
    },
    {
      "cell_type": "code",
      "execution_count": null,
      "metadata": {
        "id": "JYls9aO952EK"
      },
      "outputs": [],
      "source": [
        "from keras.models import Sequential\n",
        "from keras.layers import Dense\n",
        "from keras.layers import LSTM\n",
        "from keras.layers import Dropout"
      ]
    },
    {
      "cell_type": "code",
      "execution_count": null,
      "metadata": {
        "id": "rkuP4En47Chf"
      },
      "outputs": [],
      "source": [
        "regrassor = Sequential()"
      ]
    },
    {
      "cell_type": "code",
      "execution_count": null,
      "metadata": {
        "id": "M-A_HLNl-3PS"
      },
      "outputs": [],
      "source": [
        "regrassor.add(LSTM(units= 50, return_sequences=True))\n",
        "regrassor.add(Dropout(0.2))"
      ]
    },
    {
      "cell_type": "code",
      "execution_count": null,
      "metadata": {
        "id": "LiDYw-jn_dxJ"
      },
      "outputs": [],
      "source": [
        "regrassor.add(LSTM(units= 50, return_sequences=True))\n",
        "regrassor.add(Dropout(0.2))"
      ]
    },
    {
      "cell_type": "code",
      "execution_count": null,
      "metadata": {
        "id": "v58BVcg-_lge"
      },
      "outputs": [],
      "source": [
        "regrassor.add(LSTM(units= 50))\n",
        "regrassor.add(Dropout(0.2))"
      ]
    },
    {
      "cell_type": "code",
      "source": [],
      "metadata": {
        "id": "tjwrlm3ZfUDv"
      },
      "execution_count": null,
      "outputs": []
    },
    {
      "cell_type": "code",
      "execution_count": null,
      "metadata": {
        "id": "d2IiM-gHALIM"
      },
      "outputs": [],
      "source": [
        "regrassor.add(Dense(units= 1))"
      ]
    },
    {
      "cell_type": "code",
      "execution_count": null,
      "metadata": {
        "id": "iuv7UP4hALGv"
      },
      "outputs": [],
      "source": [
        "from keras.src.optimizers import adam\n",
        "# Compiling the RNN\n",
        "regrassor.compile(optimizer='adam', loss='mean_squared_error')"
      ]
    },
    {
      "cell_type": "code",
      "execution_count": null,
      "metadata": {
        "colab": {
          "base_uri": "https://localhost:8080/"
        },
        "id": "G7GH4eE4Cw4v",
        "outputId": "bd5e2d1a-7d49-4bfa-ba0f-437f93d4d037"
      },
      "outputs": [
        {
          "output_type": "stream",
          "name": "stdout",
          "text": [
            "Epoch 1/100\n",
            "29/29 [==============================] - 6s 212ms/step - loss: 0.0016\n",
            "Epoch 2/100\n",
            "29/29 [==============================] - 4s 143ms/step - loss: 0.0016\n",
            "Epoch 3/100\n",
            "29/29 [==============================] - 4s 126ms/step - loss: 0.0016\n",
            "Epoch 4/100\n",
            "29/29 [==============================] - 4s 125ms/step - loss: 0.0018\n",
            "Epoch 5/100\n",
            "29/29 [==============================] - 6s 202ms/step - loss: 0.0015\n",
            "Epoch 6/100\n",
            "29/29 [==============================] - 4s 147ms/step - loss: 0.0016\n",
            "Epoch 7/100\n",
            "29/29 [==============================] - 3s 120ms/step - loss: 0.0016\n",
            "Epoch 8/100\n",
            "29/29 [==============================] - 4s 122ms/step - loss: 0.0014\n",
            "Epoch 9/100\n",
            "29/29 [==============================] - 5s 191ms/step - loss: 0.0015\n",
            "Epoch 10/100\n",
            "29/29 [==============================] - 5s 163ms/step - loss: 0.0016\n",
            "Epoch 11/100\n",
            "29/29 [==============================] - 3s 119ms/step - loss: 0.0015\n",
            "Epoch 12/100\n",
            "29/29 [==============================] - 3s 119ms/step - loss: 0.0016\n",
            "Epoch 13/100\n",
            "29/29 [==============================] - 5s 170ms/step - loss: 0.0015\n",
            "Epoch 14/100\n",
            "29/29 [==============================] - 5s 180ms/step - loss: 0.0016\n",
            "Epoch 15/100\n",
            "29/29 [==============================] - 4s 122ms/step - loss: 0.0015\n",
            "Epoch 16/100\n",
            "29/29 [==============================] - 4s 121ms/step - loss: 0.0014\n",
            "Epoch 17/100\n",
            "29/29 [==============================] - 4s 154ms/step - loss: 0.0018\n",
            "Epoch 18/100\n",
            "29/29 [==============================] - 6s 197ms/step - loss: 0.0017\n",
            "Epoch 19/100\n",
            "29/29 [==============================] - 3s 119ms/step - loss: 0.0013\n",
            "Epoch 20/100\n",
            "29/29 [==============================] - 4s 122ms/step - loss: 0.0014\n",
            "Epoch 21/100\n",
            "29/29 [==============================] - 4s 133ms/step - loss: 0.0017\n",
            "Epoch 22/100\n",
            "29/29 [==============================] - 6s 199ms/step - loss: 0.0013\n",
            "Epoch 23/100\n",
            "29/29 [==============================] - 4s 136ms/step - loss: 0.0013\n",
            "Epoch 24/100\n",
            "29/29 [==============================] - 3s 120ms/step - loss: 0.0013\n",
            "Epoch 25/100\n",
            "29/29 [==============================] - 4s 122ms/step - loss: 0.0015\n",
            "Epoch 26/100\n",
            "29/29 [==============================] - 6s 200ms/step - loss: 0.0014\n",
            "Epoch 27/100\n",
            "29/29 [==============================] - 4s 153ms/step - loss: 0.0014\n",
            "Epoch 28/100\n",
            "29/29 [==============================] - 3s 119ms/step - loss: 0.0014\n",
            "Epoch 29/100\n",
            "29/29 [==============================] - 3s 119ms/step - loss: 0.0015\n",
            "Epoch 30/100\n",
            "29/29 [==============================] - 5s 179ms/step - loss: 0.0012\n",
            "Epoch 31/100\n",
            "29/29 [==============================] - 5s 170ms/step - loss: 0.0013\n",
            "Epoch 32/100\n",
            "29/29 [==============================] - 3s 119ms/step - loss: 0.0014\n",
            "Epoch 33/100\n",
            "29/29 [==============================] - 3s 120ms/step - loss: 0.0016\n",
            "Epoch 34/100\n",
            "29/29 [==============================] - 5s 162ms/step - loss: 0.0013\n",
            "Epoch 35/100\n",
            "29/29 [==============================] - 6s 192ms/step - loss: 0.0013\n",
            "Epoch 36/100\n",
            "29/29 [==============================] - 4s 122ms/step - loss: 0.0012\n",
            "Epoch 37/100\n",
            "29/29 [==============================] - 3s 119ms/step - loss: 0.0013\n",
            "Epoch 38/100\n",
            "29/29 [==============================] - 4s 140ms/step - loss: 0.0014\n",
            "Epoch 39/100\n",
            "29/29 [==============================] - 6s 200ms/step - loss: 0.0013\n",
            "Epoch 40/100\n",
            "29/29 [==============================] - 4s 125ms/step - loss: 0.0014\n",
            "Epoch 41/100\n",
            "29/29 [==============================] - 3s 120ms/step - loss: 0.0013\n",
            "Epoch 42/100\n",
            "29/29 [==============================] - 4s 124ms/step - loss: 0.0014\n",
            "Epoch 43/100\n",
            "29/29 [==============================] - 6s 203ms/step - loss: 0.0014\n",
            "Epoch 44/100\n",
            "29/29 [==============================] - 4s 144ms/step - loss: 0.0014\n",
            "Epoch 45/100\n",
            "29/29 [==============================] - 3s 119ms/step - loss: 0.0013\n",
            "Epoch 46/100\n",
            "29/29 [==============================] - 3s 121ms/step - loss: 0.0014\n",
            "Epoch 47/100\n",
            "29/29 [==============================] - 5s 188ms/step - loss: 0.0014\n",
            "Epoch 48/100\n",
            "29/29 [==============================] - 5s 162ms/step - loss: 0.0012\n",
            "Epoch 49/100\n",
            "29/29 [==============================] - 3s 120ms/step - loss: 0.0012\n",
            "Epoch 50/100\n",
            "29/29 [==============================] - 3s 120ms/step - loss: 0.0011\n",
            "Epoch 51/100\n",
            "29/29 [==============================] - 5s 165ms/step - loss: 0.0013\n",
            "Epoch 52/100\n",
            "29/29 [==============================] - 5s 184ms/step - loss: 0.0013\n",
            "Epoch 53/100\n",
            "29/29 [==============================] - 3s 120ms/step - loss: 0.0012\n",
            "Epoch 54/100\n",
            "29/29 [==============================] - 4s 121ms/step - loss: 0.0012\n",
            "Epoch 55/100\n",
            "29/29 [==============================] - 4s 151ms/step - loss: 0.0011\n",
            "Epoch 56/100\n",
            "29/29 [==============================] - 6s 203ms/step - loss: 0.0012\n",
            "Epoch 57/100\n",
            "29/29 [==============================] - 4s 121ms/step - loss: 0.0011\n",
            "Epoch 58/100\n",
            "29/29 [==============================] - 3s 120ms/step - loss: 0.0012\n",
            "Epoch 59/100\n",
            "29/29 [==============================] - 4s 131ms/step - loss: 0.0014\n",
            "Epoch 60/100\n",
            "29/29 [==============================] - 6s 202ms/step - loss: 0.0012\n",
            "Epoch 61/100\n",
            "29/29 [==============================] - 4s 134ms/step - loss: 0.0011\n",
            "Epoch 62/100\n",
            "29/29 [==============================] - 3s 119ms/step - loss: 0.0013\n",
            "Epoch 63/100\n",
            "29/29 [==============================] - 3s 120ms/step - loss: 0.0011\n",
            "Epoch 64/100\n",
            "29/29 [==============================] - 6s 198ms/step - loss: 0.0013\n",
            "Epoch 65/100\n",
            "29/29 [==============================] - 4s 152ms/step - loss: 0.0012\n",
            "Epoch 66/100\n",
            "29/29 [==============================] - 3s 120ms/step - loss: 0.0011\n",
            "Epoch 67/100\n",
            "29/29 [==============================] - 3s 120ms/step - loss: 0.0014\n",
            "Epoch 68/100\n",
            "29/29 [==============================] - 5s 176ms/step - loss: 0.0012\n",
            "Epoch 69/100\n",
            "29/29 [==============================] - 5s 172ms/step - loss: 0.0011\n",
            "Epoch 70/100\n",
            "29/29 [==============================] - 3s 117ms/step - loss: 0.0014\n",
            "Epoch 71/100\n",
            "29/29 [==============================] - 3s 118ms/step - loss: 0.0017\n",
            "Epoch 72/100\n",
            "29/29 [==============================] - 4s 152ms/step - loss: 0.0012\n",
            "Epoch 73/100\n",
            "29/29 [==============================] - 6s 201ms/step - loss: 0.0012\n",
            "Epoch 74/100\n",
            "29/29 [==============================] - 4s 123ms/step - loss: 0.0012\n",
            "Epoch 75/100\n",
            "29/29 [==============================] - 4s 123ms/step - loss: 0.0013\n",
            "Epoch 76/100\n",
            "29/29 [==============================] - 4s 142ms/step - loss: 0.0012\n",
            "Epoch 77/100\n",
            "29/29 [==============================] - 6s 200ms/step - loss: 0.0011\n",
            "Epoch 78/100\n",
            "29/29 [==============================] - 4s 126ms/step - loss: 0.0012\n",
            "Epoch 79/100\n",
            "29/29 [==============================] - 3s 119ms/step - loss: 0.0012\n",
            "Epoch 80/100\n",
            "29/29 [==============================] - 3s 119ms/step - loss: 0.0013\n",
            "Epoch 81/100\n",
            "29/29 [==============================] - 6s 201ms/step - loss: 0.0012\n",
            "Epoch 82/100\n",
            "29/29 [==============================] - 4s 150ms/step - loss: 0.0012\n",
            "Epoch 83/100\n",
            "29/29 [==============================] - 4s 121ms/step - loss: 0.0012\n",
            "Epoch 84/100\n",
            "29/29 [==============================] - 3s 120ms/step - loss: 0.0012\n",
            "Epoch 85/100\n",
            "29/29 [==============================] - 5s 186ms/step - loss: 0.0011\n",
            "Epoch 86/100\n",
            "29/29 [==============================] - 5s 167ms/step - loss: 0.0013\n",
            "Epoch 87/100\n",
            "29/29 [==============================] - 4s 122ms/step - loss: 0.0013\n",
            "Epoch 88/100\n",
            "29/29 [==============================] - 4s 125ms/step - loss: 0.0012\n",
            "Epoch 89/100\n",
            "29/29 [==============================] - 5s 179ms/step - loss: 0.0012\n",
            "Epoch 90/100\n",
            "29/29 [==============================] - 6s 193ms/step - loss: 0.0012\n",
            "Epoch 91/100\n",
            "29/29 [==============================] - 4s 128ms/step - loss: 0.0014\n",
            "Epoch 92/100\n",
            "29/29 [==============================] - 4s 130ms/step - loss: 0.0013\n",
            "Epoch 93/100\n",
            "29/29 [==============================] - 5s 169ms/step - loss: 0.0012\n",
            "Epoch 94/100\n",
            "29/29 [==============================] - 6s 204ms/step - loss: 0.0012\n",
            "Epoch 95/100\n",
            "29/29 [==============================] - 4s 129ms/step - loss: 0.0012\n",
            "Epoch 96/100\n",
            "29/29 [==============================] - 4s 130ms/step - loss: 0.0011\n",
            "Epoch 97/100\n",
            "29/29 [==============================] - 5s 158ms/step - loss: 0.0012\n",
            "Epoch 98/100\n",
            "29/29 [==============================] - 6s 203ms/step - loss: 0.0012\n",
            "Epoch 99/100\n",
            "29/29 [==============================] - 4s 121ms/step - loss: 0.0012\n",
            "Epoch 100/100\n",
            "29/29 [==============================] - 3s 121ms/step - loss: 0.0012\n"
          ]
        },
        {
          "output_type": "execute_result",
          "data": {
            "text/plain": [
              "<keras.src.callbacks.History at 0x7ceeff401e10>"
            ]
          },
          "metadata": {},
          "execution_count": 34
        }
      ],
      "source": [
        "# Fitting the RNN to the training dataset\n",
        "regrassor.fit(x_train, y_train, epochs=100, batch_size=32)"
      ]
    },
    {
      "cell_type": "markdown",
      "metadata": {
        "id": "KKjqV2tyr23v"
      },
      "source": [
        "# Making the predictions and visualizing the results"
      ]
    },
    {
      "cell_type": "code",
      "execution_count": null,
      "metadata": {
        "id": "o0BLu4ZdruaH"
      },
      "outputs": [],
      "source": [
        "dataset_test =pd.read_csv('/content/drive/MyDrive/DataSet/nflx_stock_dataset_test.csv')"
      ]
    },
    {
      "cell_type": "code",
      "execution_count": null,
      "metadata": {
        "id": "2k15Wm_mIRdn"
      },
      "outputs": [],
      "source": [
        "dataset_test"
      ]
    },
    {
      "cell_type": "code",
      "execution_count": null,
      "metadata": {
        "id": "hJbMc_lXsJIz"
      },
      "outputs": [],
      "source": [
        "oreginal_stock_price = dataset_test.iloc[:, 1:2].values"
      ]
    },
    {
      "cell_type": "code",
      "execution_count": null,
      "metadata": {
        "id": "WSEI8fzttR0X",
        "colab": {
          "base_uri": "https://localhost:8080/"
        },
        "outputId": "cf58686e-b42e-4baf-9946-38f7e822852f"
      },
      "outputs": [
        {
          "output_type": "stream",
          "name": "stdout",
          "text": [
            "1/1 [==============================] - 0s 76ms/step\n"
          ]
        }
      ],
      "source": [
        "# Getting the predicted stock price.\n",
        "dataset_total = pd.concat((dataset_train['Open'],dataset_test['Open']),axis=0)\n",
        "inputs = dataset_total[len(dataset_total)- len(dataset_test)-60:].values\n",
        "inputs = inputs.reshape(-1,1)\n",
        "inputs = sc.transform(inputs)\n",
        "x_test = []\n",
        "for i in range(60,80):\n",
        "  x_test.append(inputs[i-60:i, 0])\n",
        "x_test = np.array(x_test)\n",
        "x_test = np.reshape(x_test, (x_test.shape[0], x_test.shape[1], 1))\n",
        "predicted_stock_price = regrassor.predict(x_test)\n",
        "predicted_stock_price = sc.inverse_transform(predicted_stock_price)"
      ]
    },
    {
      "cell_type": "code",
      "execution_count": null,
      "metadata": {
        "id": "eb_opo5_CGdH"
      },
      "outputs": [],
      "source": [
        "predicted_stock_price"
      ]
    },
    {
      "cell_type": "code",
      "execution_count": null,
      "metadata": {
        "colab": {
          "base_uri": "https://localhost:8080/",
          "height": 472
        },
        "id": "PtdkQlY-CV3t",
        "outputId": "1aa65c98-b50b-4cc7-db32-8c07a5c6efbe"
      },
      "outputs": [
        {
          "output_type": "display_data",
          "data": {
            "text/plain": [
              "<Figure size 640x480 with 1 Axes>"
            ],
            "image/png": "[encoded data removed]"
          },
          "metadata": {}
        }
      ],
      "source": [
        "#Visualizing the fresult\n",
        "\n",
        "plt.plot(predicted_stock_price ,color = 'blue', label = 'Predicted NFLX Stock Price' )\n",
        "plt.title('NFLX Stock Price Prediction')\n",
        "plt.xlabel('Time')\n",
        "plt.ylabel('NFLX Stock Price')\n",
        "plt.legend()\n",
        "plt.show()"
      ]
    },
    {
      "cell_type": "code",
      "execution_count": null,
      "metadata": {
        "colab": {
          "base_uri": "https://localhost:8080/",
          "height": 472
        },
        "id": "1xDrujm-sTXK",
        "outputId": "79081624-9fa4-471b-836a-ade2798bd085"
      },
      "outputs": [
        {
          "output_type": "display_data",
          "data": {
            "text/plain": [
              "<Figure size 640x480 with 1 Axes>"
            ],
            "image/png": "[encoded data removed]"
          },
          "metadata": {}
        }
      ],
      "source": [
        "plt.plot(oreginal_stock_price ,color = 'Green', label = 'Oreginal NFLX Stock Price' )\n",
        "plt.title('NFLX Stock Price Prediction')\n",
        "plt.xlabel('Time')\n",
        "plt.ylabel('NFLX Stock Price')\n",
        "plt.legend()\n",
        "plt.show()"
      ]
    }
  ],
  "metadata": {
    "colab": {
      "provenance": [],
      "mount_file_id": "14Frzw_WIo71CPJoMV5c09qBFvFs1Abwn",
      "authorship_tag": "ABX9TyP/PHD+dPjWNIvdUEbrsmGb",
      "include_colab_link": true
    },
    "kernelspec": {
      "display_name": "Python 3",
      "name": "python3"
    },
    "language_info": {
      "name": "python"
    }
  },
  "nbformat": 4,
  "nbformat_minor": 0
}